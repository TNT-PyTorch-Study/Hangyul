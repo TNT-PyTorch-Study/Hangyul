{
  "nbformat": 4,
  "nbformat_minor": 0,
  "metadata": {
    "colab": {
      "name": "semantic_segmentation(PSPNet).ipynb",
      "provenance": [],
      "collapsed_sections": [],
      "toc_visible": true,
      "machine_shape": "hm"
    },
    "kernelspec": {
      "name": "python3",
      "display_name": "Python 3"
    },
    "language_info": {
      "name": "python"
    },
    "accelerator": "GPU"
  },
  "cells": [
    {
      "cell_type": "markdown",
      "source": [
        "**Semantic Segmentation via PSPNet (=Pyramid Scene Parsing Network)**"
      ],
      "metadata": {
        "id": "a0HyENBdf34d"
      }
    },
    {
      "cell_type": "markdown",
      "source": [
        "# 0.Make folder and data downloads"
      ],
      "metadata": {
        "id": "BzAMyIkdhsZM"
      }
    },
    {
      "cell_type": "code",
      "source": [
        "import os\n",
        "import urllib.request\n",
        "import zipfile\n",
        "import tarfile"
      ],
      "metadata": {
        "id": "-KjX1ZXyhzG1"
      },
      "execution_count": 1,
      "outputs": []
    },
    {
      "cell_type": "code",
      "source": [
        "from google.colab import drive\n",
        "drive.mount('/content/drive')"
      ],
      "metadata": {
        "colab": {
          "base_uri": "https://localhost:8080/"
        },
        "id": "QdIaY8AA2oBi",
        "outputId": "c5fe0441-dfe6-4b03-994f-4e8fabb3ada6"
      },
      "execution_count": 2,
      "outputs": [
        {
          "output_type": "stream",
          "name": "stdout",
          "text": [
            "Drive already mounted at /content/drive; to attempt to forcibly remount, call drive.mount(\"/content/drive\", force_remount=True).\n"
          ]
        }
      ]
    },
    {
      "cell_type": "code",
      "source": [
        "import os\n",
        "os.chdir('/content/drive/MyDrive/[TNT] 21-winter Pytorch/pytorch_advanced-kr/3_semantic_segmentation')"
      ],
      "metadata": {
        "id": "RXKod3oq2kAf"
      },
      "execution_count": 3,
      "outputs": []
    },
    {
      "cell_type": "code",
      "source": [
        "# data 폴더 없을 시 생성\n",
        "data_dir = './data/'\n",
        "if not os.path.exists(data_dir):\n",
        "  os.mkdir(data_dir)"
      ],
      "metadata": {
        "id": "ThFpEsy_h5go"
      },
      "execution_count": 4,
      "outputs": []
    },
    {
      "cell_type": "code",
      "source": [
        "# weight 폴더 없을 시 생성\n",
        "weights_dir = './weights/'\n",
        "if not os.path.exists(weights_dir):\n",
        "  os.mkdir(weights_dir)"
      ],
      "metadata": {
        "id": "2iHRvverh5i4"
      },
      "execution_count": 5,
      "outputs": []
    },
    {
      "cell_type": "code",
      "source": [
        "# VOC2012 데이터셋 다운로드\n",
        "url = \"http://host.robots.ox.ac.uk/pascal/VOC/voc2012/VOCtrainval_11-May-2012.tar\"\n",
        "target_path = os.path.join(data_dir, 'VOCtrainval_11-May-2012.tar')\n",
        "\n",
        "if not os.path.exists(target_path):\n",
        "  urllib.request.urlretrieve(url, target_path)\n",
        "  \n",
        "  tar = tarfile.TarFile(target_path) # tar 파일 읽기\n",
        "  tar.extractall(data_dir) # tar 파일 압축 해제 \n",
        "  tar.close() # tar 파일 닫기"
      ],
      "metadata": {
        "id": "QHGbg_onh5lz"
      },
      "execution_count": null,
      "outputs": []
    },
    {
      "cell_type": "code",
      "source": [
        "# \"weights\" 폴더에 네트워크의 초기치로써 사용할 \"pspnet50_ADE20K.pth\"를\n",
        "# 필자의 Google Drive에서 다운로드\n",
        "# https://drive.google.com/open?id=12eN6SpnawYuQmD1k9VgVW3QSgPR6hICc\n",
        "# file_id=\"12eN6SpnawYuQmD1k9VgVW3QSgPR6hICc\"\n",
        "# file_name=\"pspnet50_ADE20K.pth\"\n",
        "\n",
        "!curl -sc /tmp/cookie \"https://drive.google.com/uc?export=download&id=12eN6SpnawYuQmD1k9VgVW3QSgPR6hICc\" > /dev/null\n",
        "!curl -Lb /tmp/cookie \"https://drive.google.com/uc?export=download&confirm=$(awk '/_warning_/ {print $NF}' /tmp/cookie)&id=12eN6SpnawYuQmD1k9VgVW3QSgPR6hICc\" -o \"pspnet50_ADE20K.pth\"\n",
        "\n",
        "# 파일 이동\n",
        "!mv pspnet50_ADE20K.pth ./weights"
      ],
      "metadata": {
        "id": "Ldel_gDYicbG"
      },
      "execution_count": null,
      "outputs": []
    },
    {
      "cell_type": "code",
      "source": [
        "'''\n",
        "※미리 실시된 내용\n",
        "승마 화상 다운로드\n",
        "\n",
        "https://pixabay.com/ja/photos/%E3%82%AB%E3%82%A6%E3%83%9C%E3%83%BC%E3%82%A4-%E9%A6%AC-%E4%B9%97%E9%A6%AC-%E6%B0%B4-%E6%B5%B7-757575/\n",
        "640×426 크기의 화상을 \"data\" 폴더에 배치\n",
        "(사진의 권리 정보: 상업적 사용 무료, 저작자 표시가 필요하지 않습니다)\n",
        "\n",
        "\n",
        "'''"
      ],
      "metadata": {
        "id": "J_lNxdZzicdh"
      },
      "execution_count": null,
      "outputs": []
    },
    {
      "cell_type": "code",
      "source": [
        "'''\n",
        "(필자가 작성한) 학습된 PSPNet 모델 \"pspnet50_30.pth\"\n",
        "\n",
        "https://drive.google.com/open?id=192JenT9UTHjFb6fhwSdRgOWr8_RmDl4I\n",
        "\n",
        "반드시 다운로드할 필요는 없지만,\n",
        "PSPNet을 학습하기 전에, 학습된 모델을 미리 시도해보는 경우,\n",
        "위 링크에서 수동으로 다운로드한 \"pspnet50_30.pth\" 파일을 \"wights\" 폴더에 배치합니다.\n",
        "\n",
        "'''"
      ],
      "metadata": {
        "id": "pHfz5Or2kNeJ"
      },
      "execution_count": null,
      "outputs": []
    },
    {
      "cell_type": "markdown",
      "source": [
        "# 1.DataLoader"
      ],
      "metadata": {
        "id": "DDQ27UH3fyeY"
      }
    },
    {
      "cell_type": "markdown",
      "source": [
        "PSPNet 시맨틱 분할용 Dataset과 DataLoader를 작성한다. VOC2012 데이터셋을 대상으로 한다."
      ],
      "metadata": {
        "id": "J8ZLb3ihkVid"
      }
    },
    {
      "cell_type": "markdown",
      "source": [
        "## 1.1 패키지 import"
      ],
      "metadata": {
        "id": "SVZ31Ar9kfjO"
      }
    },
    {
      "cell_type": "code",
      "execution_count": 6,
      "metadata": {
        "id": "hTRHxFbmfkyo"
      },
      "outputs": [],
      "source": [
        "import os.path as osp\n",
        "from PIL import Image\n",
        "\n",
        "import torch.utils.data as data"
      ]
    },
    {
      "cell_type": "markdown",
      "source": [
        "## 1.2 이미지 데이터 및 어노테이션 데이터 파일 경로 리스트"
      ],
      "metadata": {
        "id": "xraP7Hfqk1K6"
      }
    },
    {
      "cell_type": "code",
      "source": [
        "def make_datapath_list(rootpath):\n",
        "  '''\n",
        "  학습, 검증용 이미지 데이터와 어노테이션 데이터의 파일 경로 리스트를 작성한다\n",
        "\n",
        "  Parameters\n",
        "  ----------\n",
        "  rootpath : str  (데이터 폴더의 경로)\n",
        "\n",
        "  Returns\n",
        "  -------\n",
        "  ret : train_img_list, train_anno_list, val_img_list, val_anno_list (데이터 경로를 저장한 리스트)\n",
        "\n",
        "  '''\n",
        "\n",
        "  # 이미지 파일, 어노테이션 파일경로 템플릿 작성\n",
        "  imgpath_template = osp.join(rootpath, 'JPEGImages', '%s.jpg')\n",
        "  annopath_template =  osp.join(rootpath, 'SegmentationClass', '%s.png')\n",
        "\n",
        "  # 훈련 및 검증 파일 각각의 ID(파일 이름)를 취득\n",
        "  train_id_names =  osp.join(rootpath + 'ImageSets/Segmentation/train.txt')\n",
        "  val_id_names = osp.join(rootpath + 'ImageSets/Segmentation/val.txt')\n",
        "\n",
        "  # 훈련 데이터의 이미지 파일과 어노테이션 파일의 경로 리스트를 작성\n",
        "  train_img_list = list()\n",
        "  train_anno_list = list()\n",
        "\n",
        "  for line in open(train_id_names):\n",
        "    file_id = line.strip() # 공백과 줄바꿈 제거\n",
        "    img_path = (imgpath_template % file_id) # 이미지 경로\n",
        "    anno_path = (annopath_template % file_id) # 어노테이션 경로\n",
        "    train_img_list.append(img_path)\n",
        "    train_anno_list.append(anno_path)\n",
        "  \n",
        "  # 검증 데이터의 이미지 파일과 어노테이션 파일의 경로 리스틀 작성\n",
        "  val_img_list = list()\n",
        "  val_anno_list = list()\n",
        "  for line in open(val_id_names):\n",
        "    file_id = line.strip() # 공백과 줄바꿈 제거\n",
        "    img_path = (imgpath_template % file_id) # 이미지 경로\n",
        "    anno_path = (annopath_template % file_id) # 어노테이션 경로\n",
        "    val_img_list.append(img_path)\n",
        "    val_anno_list.append(anno_path)\n",
        "\n",
        "  return train_img_list, train_anno_list, val_img_list, val_anno_list\n"
      ],
      "metadata": {
        "id": "L7bpLAdWk1Vk"
      },
      "execution_count": 7,
      "outputs": []
    },
    {
      "cell_type": "code",
      "source": [
        "#  동작 확인 (파일 경로리스트 return)\n",
        "rootpath = './data/VOCdevkit/VOC2012/'\n",
        "\n",
        "train_img_list, train_anno_list, val_img_list, val_anno_list = make_datapath_list(\n",
        "    rootpath=rootpath\n",
        ")\n",
        "\n",
        "print(train_img_list[0])\n",
        "print(train_anno_list[0])"
      ],
      "metadata": {
        "colab": {
          "base_uri": "https://localhost:8080/"
        },
        "id": "KsdBDVXEk1Xt",
        "outputId": "e3c3dcab-c071-46b3-ff6c-a2b4e6496bd1"
      },
      "execution_count": 8,
      "outputs": [
        {
          "output_type": "stream",
          "name": "stdout",
          "text": [
            "./data/VOCdevkit/VOC2012/JPEGImages/2007_000032.jpg\n",
            "./data/VOCdevkit/VOC2012/SegmentationClass/2007_000032.png\n"
          ]
        }
      ]
    },
    {
      "cell_type": "markdown",
      "source": [
        "## 1.3 Dataset"
      ],
      "metadata": {
        "id": "7y1AnPYxqmnf"
      }
    },
    {
      "cell_type": "code",
      "source": [
        "from utils.data_augumentation import Compose, Scale, RandomRotation, RandomMirror, Resize, Normalize_Tensor\n",
        "\n",
        "class DataTransform():\n",
        "  '''\n",
        "  이미지와 어노테이션 전처리 클래스. 훈련시와 검증시 다르게 동작\n",
        "  이미지 크기를 input_size x input_size 로 한다\n",
        "  훈련시에 데이터 확장 수행\n",
        "\n",
        "  Attributes\n",
        "  ----------\n",
        "  input_size : int\n",
        "      리사이즈 대상 이미지 크기\n",
        "  color_mean :(R, G, B)\n",
        "      각 색상 채널의 평균값\n",
        "  color_srd : (R, G, B)\n",
        "      각 색상 채널의 표준편차\n",
        "\n",
        "  '''\n",
        "  def __init__(self, input_size, color_mean, color_std):\n",
        "    self.data_transform = {\n",
        "        'train': Compose([\n",
        "                  Scale(scale=[0.5, 1.5]), # 이미지 확대\n",
        "                  RandomRotation(angle=[-10, 10]), # 회전\n",
        "                  RandomMirror(), # 랜덤 미러\n",
        "                  Resize(input_size), # 리사이즈\n",
        "                  Normalize_Tensor(color_mean, color_std) # 색상 정보 표준화와 텐서화\n",
        "        ]),\n",
        "        'val': Compose([\n",
        "                  Resize(input_size),\n",
        "                  Normalize_Tensor(color_mean, color_std)\n",
        "        ])\n",
        "    }\n",
        "\n",
        "  def __call__(self, phase, img, anno_class_img):\n",
        "    '''\n",
        "    Parameters\n",
        "    ----------\n",
        "    phase : 'train' or 'val'\n",
        "        전처리 모드 설정\n",
        "    '''\n",
        "    return self.data_transform[phase](img, anno_class_img)"
      ],
      "metadata": {
        "id": "SM7zJ1Mfk1Zj"
      },
      "execution_count": 9,
      "outputs": []
    },
    {
      "cell_type": "code",
      "source": [
        "class VOCDataset(data.Dataset):\n",
        "  '''\n",
        "  VOC2012의 데이터셋을 만드는 클래스. PyTorch의 Dataset 클래스를 상속받는다\n",
        "\n",
        "  Attributes\n",
        "  ----------\n",
        "  img_list : list\n",
        "      이미지 경로를 저장한 리스트\n",
        "  anno_list : list\n",
        "      어노테이션 경로를 저장한 리스트\n",
        "  phase : 'train' or 'test'\n",
        "      학습 또는 테스트 설정\n",
        "  transform : object\n",
        "      전처리 클래스의 인스턴스\n",
        "  '''\n",
        "\n",
        "  def __init__(self, img_list, anno_list, phase, transform):\n",
        "    self.img_list = img_list\n",
        "    self.anno_list = anno_list\n",
        "    self.phase = phase\n",
        "    self.transform = transform\n",
        "\n",
        "  def __len__(self):\n",
        "    '''이미지 개수를 반환'''\n",
        "    return len(self.img_list)\n",
        "  \n",
        "  def __getitem__(self, index):\n",
        "    '''전처리한 이미지의 텐서 형식 데이터와 어노테이션 리턴'''\n",
        "    img, anno_class_img = self.pull_item(index)\n",
        "    return img, anno_class_img\n",
        "\n",
        "  def pull_item(self, index):\n",
        "    '''이미지의 텐서 형식 데이터, 어노테이션을 리턴'''\n",
        "    # 1. 이미지 읽기\n",
        "    image_file_path = self.img_list[index]\n",
        "    img = Image.open(image_file_path) # [높이][폭][색RGB]\n",
        "    # 2. 어노테이션 이미지 읽기\n",
        "    anno_file_path = self.anno_list[index]\n",
        "    anno_class_img = Image.open(anno_file_path) # [높이][폭]\n",
        "    # 3. 전처리\n",
        "    img, anno_class_img =  self.transform(self.phase, img, anno_class_img)\n",
        "\n",
        "    return img, anno_class_img\n"
      ],
      "metadata": {
        "id": "CIQzCN6Gk1bv"
      },
      "execution_count": 10,
      "outputs": []
    },
    {
      "cell_type": "code",
      "source": [
        "# 동작 확인\n",
        "\n",
        "# (RGB) 색의 평균과 표준편차\n",
        "color_mean = (0.485, 0.456, 0.406)\n",
        "color_std = (0.229, 0.224, 0.225)\n",
        "\n",
        "# 데이터셋 작성\n",
        "train_dataset = VOCDataset(train_img_list, train_anno_list, phase='train', transform=DataTransform(\n",
        "    input_size=475, color_mean=color_mean, color_std=color_std))\n",
        "val_dataset = VOCDataset(val_img_list, val_anno_list, phase='val', transform=DataTransform(\n",
        "    input_size=475, color_mean=color_mean, color_std=color_std))\n",
        "\n",
        "# 데이터 추출하는 예\n",
        "print(val_dataset.__getitem__(0)[0].shape)\n",
        "print(val_dataset.__getitem__(0)[1].shape)\n",
        "print(val_dataset.__getitem__(0))"
      ],
      "metadata": {
        "colab": {
          "base_uri": "https://localhost:8080/"
        },
        "id": "eYN9FFgtk1dU",
        "outputId": "f0e355f3-f2d9-4c3d-ad3c-5706ef924559"
      },
      "execution_count": 11,
      "outputs": [
        {
          "output_type": "stream",
          "name": "stdout",
          "text": [
            "torch.Size([3, 475, 475])\n",
            "torch.Size([475, 475])\n",
            "(tensor([[[ 1.6667,  1.5125,  1.5639,  ...,  1.7523,  1.6667,  1.7009],\n",
            "         [ 1.5810,  1.4269,  1.4783,  ...,  1.7009,  1.6153,  1.6495],\n",
            "         [ 1.5639,  1.4098,  1.4440,  ...,  1.6838,  1.5982,  1.6324],\n",
            "         ...,\n",
            "         [-0.4739, -0.4911, -0.5424,  ...,  1.2557,  1.1872,  1.2214],\n",
            "         [-0.5596, -0.4911, -0.4911,  ...,  1.2385,  1.1872,  1.2214],\n",
            "         [-0.6281, -0.3883, -0.3369,  ...,  1.2385,  1.1872,  1.2214]],\n",
            "\n",
            "        [[ 1.8333,  1.6758,  1.7283,  ...,  1.9209,  1.8333,  1.8683],\n",
            "         [ 1.7458,  1.5882,  1.6408,  ...,  1.8683,  1.7808,  1.8158],\n",
            "         [ 1.7283,  1.5707,  1.6057,  ...,  1.8508,  1.7633,  1.7983],\n",
            "         ...,\n",
            "         [-0.5826, -0.6001, -0.6527,  ...,  1.4132,  1.3431,  1.3431],\n",
            "         [-0.6702, -0.6001, -0.6001,  ...,  1.3957,  1.3431,  1.3431],\n",
            "         [-0.7402, -0.4951, -0.4426,  ...,  1.3957,  1.3431,  1.3431]],\n",
            "\n",
            "        [[ 2.0474,  1.8905,  1.9428,  ...,  2.1346,  2.0474,  2.0823],\n",
            "         [ 1.9603,  1.8034,  1.8557,  ...,  2.0823,  1.9951,  2.0300],\n",
            "         [ 1.9428,  1.7860,  1.8208,  ...,  2.0648,  1.9777,  2.0125],\n",
            "         ...,\n",
            "         [-0.6367, -0.6541, -0.7064,  ...,  1.6291,  1.5594,  1.5768],\n",
            "         [-0.7238, -0.6541, -0.6541,  ...,  1.6117,  1.5594,  1.5768],\n",
            "         [-0.7936, -0.5495, -0.4973,  ...,  1.6117,  1.5594,  1.5768]]]), tensor([[0, 0, 0,  ..., 0, 0, 0],\n",
            "        [0, 0, 0,  ..., 0, 0, 0],\n",
            "        [0, 0, 0,  ..., 0, 0, 0],\n",
            "        ...,\n",
            "        [0, 0, 0,  ..., 0, 0, 0],\n",
            "        [0, 0, 0,  ..., 0, 0, 0],\n",
            "        [0, 0, 0,  ..., 0, 0, 0]], dtype=torch.uint8))\n"
          ]
        }
      ]
    },
    {
      "cell_type": "markdown",
      "source": [
        "## 1.4  DataLoader"
      ],
      "metadata": {
        "id": "kw6RM_ubv3Zz"
      }
    },
    {
      "cell_type": "code",
      "source": [
        "# 데이터 로더 작성\n",
        "batch_size = 8\n",
        "train_dataloader = data.DataLoader(\n",
        "    train_dataset, batch_size=batch_size, shuffle=True)\n",
        "val_dataloader = data.DataLoader(\n",
        "    val_dataset, batch_size=batch_size, shuffle=False)\n",
        "\n",
        "# dict 오브젝트로 정리\n",
        "dataloaders_dict = {'train': train_dataloader, 'val': val_dataloader}\n",
        "\n",
        "# 동작 확인\n",
        "batch_iterator = iter(dataloaders_dict['val']) # 반복자로 변환\n",
        "images, anno_class_imges = next(batch_iterator) # 첫번째 요소 꺼냄\n",
        "print(images.size()) # torch.Size([8, 3, 475, 475])\n",
        "print(anno_class_imges.size()) # torch.Size([8, 3, 475, 475])"
      ],
      "metadata": {
        "colab": {
          "base_uri": "https://localhost:8080/"
        },
        "id": "MXW0t4Tdf2G8",
        "outputId": "e9bdffd9-dc6f-4978-a026-c878a2badf9f"
      },
      "execution_count": 12,
      "outputs": [
        {
          "output_type": "stream",
          "name": "stdout",
          "text": [
            "torch.Size([8, 3, 475, 475])\n",
            "torch.Size([8, 475, 475])\n"
          ]
        }
      ]
    },
    {
      "cell_type": "markdown",
      "source": [
        "## (부록) Dataset에서  이미지 추출해 화면에 그리기"
      ],
      "metadata": {
        "id": "cOZChhsHxO0-"
      }
    },
    {
      "cell_type": "code",
      "source": [
        "import numpy as np\n",
        "import matplotlib.pyplot as plt\n",
        "%matplotlib inline"
      ],
      "metadata": {
        "id": "PsC-a9_txKW3"
      },
      "execution_count": 13,
      "outputs": []
    },
    {
      "cell_type": "code",
      "source": [
        "# 훈련용 이미지\n",
        "\n",
        "# 이미지 데이터 읽기\n",
        "index = 100\n",
        "imges, anno_class_imges = train_dataset.__getitem__(index)\n",
        "\n",
        "# 이미지 표시\n",
        "img_val = imges\n",
        "img_val = img_val.numpy().transpose((1, 2, 0))\n",
        "plt.imshow(img_val)\n",
        "plt.show()\n",
        "\n",
        "# 어노테이션 이미지 표시\n",
        "anno_file_path = train_anno_list[0]\n",
        "anno_class_img = Image.open(anno_file_path)\n",
        "p_palette = anno_class_img.getpalette()\n",
        "\n",
        "anno_class_img_val = anno_class_imges.numpy()\n",
        "anno_class_img_val = Image.fromarray(np.uint8(anno_class_img_val), mode='P')\n",
        "anno_class_img_val.putpalette(p_palette)\n",
        "plt.imshow(anno_class_img_val)\n",
        "plt.show()"
      ],
      "metadata": {
        "colab": {
          "base_uri": "https://localhost:8080/",
          "height": 540
        },
        "id": "Z1DMqT8nxYoU",
        "outputId": "4b1664c1-04f5-4aad-dc43-c4b866c9651b"
      },
      "execution_count": 14,
      "outputs": [
        {
          "output_type": "stream",
          "name": "stderr",
          "text": [
            "Clipping input data to the valid range for imshow with RGB data ([0..1] for floats or [0..255] for integers).\n"
          ]
        },
        {
          "output_type": "display_data",
          "data": {
            "image/png": "[encoded data removed]",
            "text/plain": [
              "<Figure size 432x288 with 1 Axes>"
            ]
          },
          "metadata": {
            "needs_background": "light"
          }
        },
        {
          "output_type": "display_data",
          "data": {
            "image/png": "[encoded data removed]",
            "text/plain": [
              "<Figure size 432x288 with 1 Axes>"
            ]
          },
          "metadata": {
            "needs_background": "light"
          }
        }
      ]
    },
    {
      "cell_type": "code",
      "source": [
        "# 검증용 이미지\n",
        "\n",
        "# 이미지 데이터 읽기\n",
        "index = 100\n",
        "imges, anno_class_imges = val_dataset.__getitem__(index)\n",
        "\n",
        "# 이미지 표시\n",
        "img_val = imges\n",
        "img_val = img_val.numpy().transpose((1, 2, 0))\n",
        "plt.imshow(img_val)\n",
        "plt.show()\n",
        "\n",
        "# 어노테이션 이미지 표시\n",
        "anno_file_path = val_anno_list[0]\n",
        "anno_class_img = Image.open(anno_file_path)\n",
        "p_palette = anno_class_img.getpalette()\n",
        "\n",
        "anno_class_img_val = anno_class_imges.numpy()\n",
        "anno_class_img_val = Image.fromarray(np.uint8(anno_class_img_val), mode='P')\n",
        "anno_class_img_val.putpalette(p_palette)\n",
        "plt.imshow(anno_class_img_val)\n",
        "plt.show()"
      ],
      "metadata": {
        "colab": {
          "base_uri": "https://localhost:8080/",
          "height": 540
        },
        "id": "MSuvrui0yOl9",
        "outputId": "b29f81a3-70db-4e10-f333-c4ca278ae133"
      },
      "execution_count": 15,
      "outputs": [
        {
          "output_type": "stream",
          "name": "stderr",
          "text": [
            "Clipping input data to the valid range for imshow with RGB data ([0..1] for floats or [0..255] for integers).\n"
          ]
        },
        {
          "output_type": "display_data",
          "data": {
            "image/png": "[encoded data removed]",
            "text/plain": [
              "<Figure size 432x288 with 1 Axes>"
            ]
          },
          "metadata": {
            "needs_background": "light"
          }
        },
        {
          "output_type": "display_data",
          "data": {
            "image/png": "[encoded data removed]",
            "text/plain": [
              "<Figure size 432x288 with 1 Axes>"
            ]
          },
          "metadata": {
            "needs_background": "light"
          }
        }
      ]
    },
    {
      "cell_type": "markdown",
      "source": [
        "# 2.Network Model"
      ],
      "metadata": {
        "id": "V_EWHFkKzDpK"
      }
    },
    {
      "cell_type": "markdown",
      "source": [
        "## 2.1 패키지 import"
      ],
      "metadata": {
        "id": "vDH41X5OzL_B"
      }
    },
    {
      "cell_type": "code",
      "source": [
        "import torch\n",
        "import torch.nn as nn\n",
        "import torch.nn.functional as F"
      ],
      "metadata": {
        "id": "_18uGj7myoRa"
      },
      "execution_count": 16,
      "outputs": []
    },
    {
      "cell_type": "markdown",
      "source": [
        "## 2.2 PSPNet 네트워크 구조"
      ],
      "metadata": {
        "id": "58AqguBlzcIt"
      }
    },
    {
      "cell_type": "code",
      "source": [
        "class PSPNet(nn.Module):\n",
        "  def __init__(self, n_classes):\n",
        "    super(PSPNet, self).__init__()\n",
        "\n",
        "    # 파라미터 설정\n",
        "    block_config = [3, 4, 6, 3] # resnet50\n",
        "    img_size = 475\n",
        "    img_size_8 = 60 # img_size의 1/8로 설정\n",
        "\n",
        "    # 4개의 모듈을 구성하는 서브 네트워크 준비\n",
        "    self.feature_conv = FeatureMap_Convolution()\n",
        "    self.feature_res_1 = ResidualBlockPSP(\n",
        "        n_blocks=block_config[0], in_channels=128, mid_channels=64, out_channels=256, stride=1, dilation=1)\n",
        "    self.feature_res_2 = ResidualBlockPSP(\n",
        "        n_blocks=block_config[1], in_channels=256, mid_channels=128, out_channels=512, stride=2, dilation=1)\n",
        "    self.feature_dilated_res_1 = ResidualBlockPSP(\n",
        "        n_blocks=block_config[2], in_channels=512, mid_channels=256, out_channels=1024, stride=1, dilation=2)\n",
        "    self.feature_dilated_res_2 = ResidualBlockPSP(\n",
        "        n_blocks=block_config[3], in_channels=1024, mid_channels=512, out_channels=2048, stride=1, dilation=4)\n",
        "    \n",
        "    self.pyramid_pooling = PyramidPooling(in_channels=2048, pool_sizes=[6, 3, 2, 1],\n",
        "                                          height=img_size_8, width=img_size_8)\n",
        "    \n",
        "    self.decode_feature = DecodePSPFeature(\n",
        "        height=img_size, width=img_size, n_classes=n_classes)\n",
        "    \n",
        "    self.aux = AuxiliaryPSPlayers(\n",
        "        in_channels=1024, height=img_size, width=img_size, n_classes=n_classes)\n",
        "\n",
        "    def forward(self, x):\n",
        "      x = self.feature_conv(x)\n",
        "      x = self.feature_res_1(x)\n",
        "      x = self.feature_res_2(x)\n",
        "      x = self.feature_dilated_res_1(x)\n",
        "\n",
        "      # Feature 모듈 중간에 Aux 모듈로\n",
        "      output_aux = self.aux(x)\n",
        "\n",
        "      x = self.feature_dilated_res_2(x)\n",
        "\n",
        "      x = self.pyramid_pooling(x)\n",
        "      output = self.decode_feature(x)\n",
        "\n",
        "      return (output, output_aux)\n",
        "\n"
      ],
      "metadata": {
        "id": "Z6RTvKEHzIV2"
      },
      "execution_count": 29,
      "outputs": []
    },
    {
      "cell_type": "markdown",
      "source": [
        "## 2.3 Feature 모듈"
      ],
      "metadata": {
        "id": "zlofG_kG21-F"
      }
    },
    {
      "cell_type": "code",
      "source": [
        "class conv2DBatchNormRelu(nn.Module):\n",
        "  def __init__(self, in_channels, out_channels, kernel_size, stride, padding, dilation, bias):\n",
        "    super(conv2DBatchNormRelu, self).__init__()\n",
        "    self.conv = nn.Conv2d(in_channels, out_channels,\n",
        "                          kernel_size, stride, padding, dilation, bias=bias)\n",
        "    self.batchnorm = nn.BatchNorm2d(out_channels)\n",
        "    self.relu = nn.ReLU(inplace=True) # inplace=True 설정으로, 입력을 저장하지 않고 출력을 계산하여 메모리 절약\n",
        "\n",
        "  def forward(self, x):\n",
        "    x = self.conv(x)\n",
        "    x = self.batchnorm(x)\n",
        "    outputs = self.relu(x)\n",
        "\n",
        "    return outputs\n"
      ],
      "metadata": {
        "id": "fcvw79APzIX_"
      },
      "execution_count": 30,
      "outputs": []
    },
    {
      "cell_type": "code",
      "source": [
        "class FeatureMap_Convolution(nn.Module):\n",
        "  def __init__(self):\n",
        "    super(FeatureMap_Convolution, self).__init__()\n",
        "\n",
        "    # 합성곱 층1\n",
        "    in_channels, out_channels, kernel_size, stride, padding, dilation, bias = 3, 64, 3, 2, 1, 1, False\n",
        "    self.cbnr_1 = conv2DBatchNormRelu(\n",
        "        in_channels, out_channels, kernel_size, stride, padding, dilation, bias)\n",
        "    \n",
        "    # 합성곱 층2\n",
        "    in_channels, out_channels, kernel_size, stride, padding, dilation, bias = 64, 64, 3, 1, 1, 1, False\n",
        "    self.cbnr_2 = conv2DBatchNormRelu(\n",
        "        in_channels, out_channels, kernel_size, stride, padding, dilation, bias)\n",
        "    \n",
        "    # 합성곱 층3\n",
        "    in_channels, out_channels, kernel_size, stride, padding, dilation, bias = 64, 128, 3, 1, 1, 1, False\n",
        "    self.cbnr_3 = conv2DBatchNormRelu(\n",
        "        in_channels, out_channels, kernel_size, stride, padding, dilation, bias)\n",
        "    \n",
        "    # MaxPooling 층\n",
        "    self.maxpool = nn.MaxPool2d(kernel_size=3, stride=2, padding=1)\n",
        "\n",
        "  def forward(self, x):\n",
        "    x = self.cbnr_1(x)\n",
        "    x = self.cbnr_2(x)\n",
        "    x = self.cbnr_3(x)\n",
        "    outputs = self.maxpool(x)\n",
        "\n",
        "    return outputs\n"
      ],
      "metadata": {
        "id": "_h801SrjzIZ4"
      },
      "execution_count": 31,
      "outputs": []
    },
    {
      "cell_type": "code",
      "source": [
        "class ResidualBlockPSP(nn.Sequential):\n",
        "  def __init__(self, n_blocks, in_channels, mid_channels, out_channels, stride, dilation):\n",
        "    super(ResidualBlockPSP, self).__init__()\n",
        "\n",
        "    # bottleNeckPSP\n",
        "    self.add_module(\n",
        "        'block1',\n",
        "        bottleNeckPSP(in_channels, mid_channels, out_channels, stride, dilation)\n",
        "    )\n",
        "\n",
        "    # bottleNeckIdentifyPSP\n",
        "    for i in range(n_blocks - 1):\n",
        "      self.add_module(\n",
        "          'block' + str(i+2),\n",
        "          bottleNeckIdentifyPSP(\n",
        "              out_channels, mid_channels, stride, dilation\n",
        "          )\n",
        "      )"
      ],
      "metadata": {
        "id": "Vui8o7PA5Ica"
      },
      "execution_count": 32,
      "outputs": []
    },
    {
      "cell_type": "code",
      "source": [
        "class conv2DBatchNorm(nn.Module):\n",
        "  def __init__(self, in_channels, out_channels, kernel_size, stride, padding, dilation, bias):\n",
        "    super(conv2DBatchNorm, self).__init__()\n",
        "    self.conv = nn.Conv2d(in_channels, out_channels, \n",
        "                          kernel_size, stride, padding, dilation, bias=bias)\n",
        "    self.batchnorm = nn.BatchNorm2d(out_channels)\n",
        "\n",
        "  def forward(self, x):\n",
        "    x = self.conv(x)\n",
        "    outputs = self.batchnorm(x)\n",
        "\n",
        "    return outputs\n",
        "    "
      ],
      "metadata": {
        "id": "AIAfgGnx6Dhl"
      },
      "execution_count": 33,
      "outputs": []
    },
    {
      "cell_type": "code",
      "source": [
        "class bottleNeckPSP(nn.Module):\n",
        "  def __init__(self, in_channels, mid_channels, out_channels, stride, dilation):\n",
        "    super(bottleNeckPSP, self).__init__()\n",
        "\n",
        "    self.cbr_1 = conv2DBatchNormRelu(\n",
        "        in_channels, mid_channels, kernel_size=1, stride=1, padding=0, dilation=1, bias=False)\n",
        "    self.cbr_2 = conv2DBatchNormRelu(\n",
        "        mid_channels, mid_channels, kernel_size=3, stride=stride, padding=dilation, dilation=dilation, bias=False)\n",
        "    self.cb_3 = conv2DBatchNorm(\n",
        "        mid_channels, out_channels, kernel_size=1, stride=1, padding=0, dilation=1, bias=False)\n",
        "    \n",
        "    # skip connection\n",
        "    self.cb_residual = conv2DBatchNorm(\n",
        "         in_channels, out_channels, kernel_size=1, stride=stride, padding=0, dilation=1, bias=False)\n",
        "    \n",
        "    self.relu = nn.ReLU(inplace=True)\n",
        "\n",
        "  def forward(self, x):\n",
        "    conv = self.cb_3(self.cbr_2(self.cbr_1(x)))\n",
        "    residual = self.cb_residual(x)\n",
        "\n",
        "    return self.relu(conv + residual)"
      ],
      "metadata": {
        "id": "LlKKFL_M6vlk"
      },
      "execution_count": 34,
      "outputs": []
    },
    {
      "cell_type": "code",
      "source": [
        "class bottleNeckIdentifyPSP(nn.Module):\n",
        "  def __init__(self, in_channels, mid_channels, stride, dilation):\n",
        "    super(bottleNeckIdentifyPSP, self).__init__()\n",
        "\n",
        "    self.cbr_1 = conv2DBatchNormRelu(\n",
        "        in_channels, mid_channels, kernel_size=1, stride=1, padding=0, dilation=1, bias=False)\n",
        "    self.cbr_2 = conv2DBatchNormRelu(\n",
        "        mid_channels, mid_channels, kernel_size=3, stride=1, padding=dilation, dilation=dilation, bias=False)\n",
        "    self.cb_3 = conv2DBatchNorm(\n",
        "        mid_channels, in_channels, kernel_size=1, stride=1, padding=0, dilation=1, bias=False)\n",
        "\n",
        "    self.relu = nn.ReLU(inplace=True)\n",
        "\n",
        "  def forward(self, x):\n",
        "    conv = self.cb_3(self.cbr_2(self.cbr_1(x)))\n",
        "    residual = x\n",
        "\n",
        "    return self.relu(conv + residual)"
      ],
      "metadata": {
        "id": "uoJQIFRH7-v2"
      },
      "execution_count": 35,
      "outputs": []
    },
    {
      "cell_type": "markdown",
      "source": [
        "## 2.4 Pyramid Pooling 모듈"
      ],
      "metadata": {
        "id": "BFFbGgM38cN5"
      }
    },
    {
      "cell_type": "code",
      "source": [
        "class PyramidPooling(nn.Module):\n",
        "  def __init__(self, in_channels, pool_sizes, height, width):\n",
        "    super(PyramidPooling, self).__init__()\n",
        "\n",
        "    # forward에 사용하는 이미지 크기\n",
        "    self.height = height\n",
        "    self.width = width\n",
        "\n",
        "    # 각 합성곱 층의 채널 수\n",
        "    out_channels = int(in_channels / len(pool_sizes))\n",
        "\n",
        "    # 각 합성곱 층\n",
        "    # pool_sizes=  [6, 3, 2, 1]\n",
        "    self.avpool_1 = nn.AdaptiveAvgPool2d(output_size=pool_sizes[0])\n",
        "    self.cbr_1 = conv2DBatchNormRelu(\n",
        "        in_channels, out_channels, kernel_size=1, stride=1, padding=0, dilation=1, bias=False)\n",
        "    \n",
        "    self.avpool_2 = nn.AdaptiveAvgPool2d(output_size=pool_sizes[1])\n",
        "    self.cbr_2 = conv2DBatchNormRelu(\n",
        "        in_channels, out_channels, kernel_size=1, stride=1, padding=0, dilation=1, bias=False)\n",
        "    \n",
        "    self.avpool_3 = nn.AdaptiveAvgPool2d(output_size=pool_sizes[2])\n",
        "    self.cbr_3 = conv2DBatchNormRelu(\n",
        "        in_channels, out_channels, kernel_size=1, stride=1, padding=0, dilation=1, bias=False)\n",
        "    \n",
        "    self.avpool_4 = nn.AdaptiveAvgPool2d(output_size=pool_sizes[3])\n",
        "    self.cbr_4 = conv2DBatchNormRelu(\n",
        "        in_channels, out_channels, kernel_size=1, stride=1, padding=0, dilation=1, bias=False)\n",
        "    \n",
        "  def forward(self, x):\n",
        "    out1 = self.cbr_1(self.avpool_1(x))\n",
        "    out1 = F.interpolate(out1, size=(self.height, self.width),\n",
        "                         mode='bilinear', align_corners=True)\n",
        "    \n",
        "    out2 = self.cbr_2(self.avpool_2(x))\n",
        "    out2 = F.interpolate(out2, size=(self.height, self.width),\n",
        "                         mode='bilinear', align_corners=True)\n",
        "    \n",
        "    out3 = self.cbr_3(self.avpool_3(x))\n",
        "    out3 = F.interpolate(out3, size=(self.height, self.width),\n",
        "                         mode='bilinear', align_corners=True)\n",
        "    \n",
        "    out4 = self.cbr_4(self.avpool_4(x))\n",
        "    out4 = F.interpolate(out4, size=(self.height, self.width),\n",
        "                         mode='bilinear', align_corners=True)\n",
        "    \n",
        "    # 최종적으로 결합. dim=1로 채널 수 차원으로 결합 (512*4 +  2048 = 4096)\n",
        "    output = torch.cat([x, out1, out2, out3, out4], dim=1)\n",
        "\n",
        "    return output"
      ],
      "metadata": {
        "id": "OBkbjhMn8bIg"
      },
      "execution_count": 36,
      "outputs": []
    },
    {
      "cell_type": "markdown",
      "source": [
        "## 2.5 Decoder 모듈"
      ],
      "metadata": {
        "id": "e2YsF8pqBSBk"
      }
    },
    {
      "cell_type": "code",
      "source": [
        "class DecodePSPFeature(nn.Module):\n",
        "  def __init__(self, height, width, n_classes):\n",
        "    super(DecodePSPFeature, self).__init__()\n",
        "\n",
        "    # forward에 사용하는 이미지 크기\n",
        "    self.height = height\n",
        "    self.width = width\n",
        "\n",
        "    self.cbr = conv2DBatchNormRelu(in_channels=4096, out_channels=512, kernel_size=3, \n",
        "                                   stride=1, padding=1, dilation=1, bias=False)\n",
        "    self.dropout = nn.Dropout2d(p=0.1)\n",
        "    self.classification = nn.Conv2d(in_channels=512, out_channels=n_classes,\n",
        "                                    kernel_size=1, stride=1, padding=0)\n",
        "    \n",
        "  def forward(self, x):\n",
        "    x = self.cbr(x)\n",
        "    x = self.dropout(x)\n",
        "    x = self.classification(x)\n",
        "    output = F.interpolate(x, size=(self.height, self.width),\n",
        "                           mode='bilinear', align_corners=True)\n",
        "    # F.interpolate() 사용법 \n",
        "    # torch.nn.functional.interpolate(input, size=None, scale_factor=None, mode='nearest', align_corners=None, recompute_scale_factor=None)\n",
        "    \n",
        "    return output\n"
      ],
      "metadata": {
        "id": "7bWE7ucgBXaA"
      },
      "execution_count": 37,
      "outputs": []
    },
    {
      "cell_type": "markdown",
      "source": [
        "## 2.6 AuxLoss 모듈"
      ],
      "metadata": {
        "id": "nhlA1JMIBVRr"
      }
    },
    {
      "cell_type": "code",
      "source": [
        "class AuxiliaryPSPlayers(nn.Module):\n",
        "  def __init__(self, in_channels, height, width, n_classes):\n",
        "    super(AuxiliaryPSPlayers, self).__init__()\n",
        "\n",
        "    # forward에 사용하는 이미지 크기\n",
        "    self.height = height\n",
        "    self.width = width\n",
        "\n",
        "    self.cbr = conv2DBatchNormRelu(in_channels=in_channels, out_channels=256, kernel_size=3, \n",
        "                                   stride=1, padding=1, dilation=1, bias=False)\n",
        "    self.dropout = nn.Dropout2d(p=0.1)\n",
        "    self.classification = nn.Conv2d(in_channels=256, out_channels=n_classes,\n",
        "                                    kernel_size=1, stride=1, padding=0)\n",
        "    \n",
        "  def forward(self, x):\n",
        "    x = self.cbr(x)\n",
        "    x = self.dropout(x)\n",
        "    x = self.classification(x)\n",
        "    output = F.interpolate(x, size=(self.height, self.width),\n",
        "                           mode='bilinear', align_corners=True)\n",
        "    \n",
        "    return output\n"
      ],
      "metadata": {
        "id": "lxjifP4uBRid"
      },
      "execution_count": 38,
      "outputs": []
    },
    {
      "cell_type": "code",
      "source": [
        "# 동작 확인\n",
        "\n",
        "# 모델 정의\n",
        "net = PSPNet(n_classes=21)\n",
        "net"
      ],
      "metadata": {
        "colab": {
          "base_uri": "https://localhost:8080/"
        },
        "id": "BUnZXLbOC5M7",
        "outputId": "f66bde76-4cf3-41b1-c8a1-81192d413a88"
      },
      "execution_count": 39,
      "outputs": [
        {
          "output_type": "execute_result",
          "data": {
            "text/plain": [
              "PSPNet(\n",
              "  (feature_conv): FeatureMap_Convolution(\n",
              "    (cbnr_1): conv2DBatchNormRelu(\n",
              "      (conv): Conv2d(3, 64, kernel_size=(3, 3), stride=(2, 2), padding=(1, 1), bias=False)\n",
              "      (batchnorm): BatchNorm2d(64, eps=1e-05, momentum=0.1, affine=True, track_running_stats=True)\n",
              "      (relu): ReLU(inplace=True)\n",
              "    )\n",
              "    (cbnr_2): conv2DBatchNormRelu(\n",
              "      (conv): Conv2d(64, 64, kernel_size=(3, 3), stride=(1, 1), padding=(1, 1), bias=False)\n",
              "      (batchnorm): BatchNorm2d(64, eps=1e-05, momentum=0.1, affine=True, track_running_stats=True)\n",
              "      (relu): ReLU(inplace=True)\n",
              "    )\n",
              "    (cbnr_3): conv2DBatchNormRelu(\n",
              "      (conv): Conv2d(64, 128, kernel_size=(3, 3), stride=(1, 1), padding=(1, 1), bias=False)\n",
              "      (batchnorm): BatchNorm2d(128, eps=1e-05, momentum=0.1, affine=True, track_running_stats=True)\n",
              "      (relu): ReLU(inplace=True)\n",
              "    )\n",
              "    (maxpool): MaxPool2d(kernel_size=3, stride=2, padding=1, dilation=1, ceil_mode=False)\n",
              "  )\n",
              "  (feature_res_1): ResidualBlockPSP(\n",
              "    (block1): bottleNeckPSP(\n",
              "      (cbr_1): conv2DBatchNormRelu(\n",
              "        (conv): Conv2d(128, 64, kernel_size=(1, 1), stride=(1, 1), bias=False)\n",
              "        (batchnorm): BatchNorm2d(64, eps=1e-05, momentum=0.1, affine=True, track_running_stats=True)\n",
              "        (relu): ReLU(inplace=True)\n",
              "      )\n",
              "      (cbr_2): conv2DBatchNormRelu(\n",
              "        (conv): Conv2d(64, 64, kernel_size=(3, 3), stride=(1, 1), padding=(1, 1), bias=False)\n",
              "        (batchnorm): BatchNorm2d(64, eps=1e-05, momentum=0.1, affine=True, track_running_stats=True)\n",
              "        (relu): ReLU(inplace=True)\n",
              "      )\n",
              "      (cb_3): conv2DBatchNorm(\n",
              "        (conv): Conv2d(64, 256, kernel_size=(1, 1), stride=(1, 1), bias=False)\n",
              "        (batchnorm): BatchNorm2d(256, eps=1e-05, momentum=0.1, affine=True, track_running_stats=True)\n",
              "      )\n",
              "      (cb_residual): conv2DBatchNorm(\n",
              "        (conv): Conv2d(128, 256, kernel_size=(1, 1), stride=(1, 1), bias=False)\n",
              "        (batchnorm): BatchNorm2d(256, eps=1e-05, momentum=0.1, affine=True, track_running_stats=True)\n",
              "      )\n",
              "      (relu): ReLU(inplace=True)\n",
              "    )\n",
              "    (block2): bottleNeckIdentifyPSP(\n",
              "      (cbr_1): conv2DBatchNormRelu(\n",
              "        (conv): Conv2d(256, 64, kernel_size=(1, 1), stride=(1, 1), bias=False)\n",
              "        (batchnorm): BatchNorm2d(64, eps=1e-05, momentum=0.1, affine=True, track_running_stats=True)\n",
              "        (relu): ReLU(inplace=True)\n",
              "      )\n",
              "      (cbr_2): conv2DBatchNormRelu(\n",
              "        (conv): Conv2d(64, 64, kernel_size=(3, 3), stride=(1, 1), padding=(1, 1), bias=False)\n",
              "        (batchnorm): BatchNorm2d(64, eps=1e-05, momentum=0.1, affine=True, track_running_stats=True)\n",
              "        (relu): ReLU(inplace=True)\n",
              "      )\n",
              "      (cb_3): conv2DBatchNorm(\n",
              "        (conv): Conv2d(64, 256, kernel_size=(1, 1), stride=(1, 1), bias=False)\n",
              "        (batchnorm): BatchNorm2d(256, eps=1e-05, momentum=0.1, affine=True, track_running_stats=True)\n",
              "      )\n",
              "      (relu): ReLU(inplace=True)\n",
              "    )\n",
              "    (block3): bottleNeckIdentifyPSP(\n",
              "      (cbr_1): conv2DBatchNormRelu(\n",
              "        (conv): Conv2d(256, 64, kernel_size=(1, 1), stride=(1, 1), bias=False)\n",
              "        (batchnorm): BatchNorm2d(64, eps=1e-05, momentum=0.1, affine=True, track_running_stats=True)\n",
              "        (relu): ReLU(inplace=True)\n",
              "      )\n",
              "      (cbr_2): conv2DBatchNormRelu(\n",
              "        (conv): Conv2d(64, 64, kernel_size=(3, 3), stride=(1, 1), padding=(1, 1), bias=False)\n",
              "        (batchnorm): BatchNorm2d(64, eps=1e-05, momentum=0.1, affine=True, track_running_stats=True)\n",
              "        (relu): ReLU(inplace=True)\n",
              "      )\n",
              "      (cb_3): conv2DBatchNorm(\n",
              "        (conv): Conv2d(64, 256, kernel_size=(1, 1), stride=(1, 1), bias=False)\n",
              "        (batchnorm): BatchNorm2d(256, eps=1e-05, momentum=0.1, affine=True, track_running_stats=True)\n",
              "      )\n",
              "      (relu): ReLU(inplace=True)\n",
              "    )\n",
              "  )\n",
              "  (feature_res_2): ResidualBlockPSP(\n",
              "    (block1): bottleNeckPSP(\n",
              "      (cbr_1): conv2DBatchNormRelu(\n",
              "        (conv): Conv2d(256, 128, kernel_size=(1, 1), stride=(1, 1), bias=False)\n",
              "        (batchnorm): BatchNorm2d(128, eps=1e-05, momentum=0.1, affine=True, track_running_stats=True)\n",
              "        (relu): ReLU(inplace=True)\n",
              "      )\n",
              "      (cbr_2): conv2DBatchNormRelu(\n",
              "        (conv): Conv2d(128, 128, kernel_size=(3, 3), stride=(2, 2), padding=(1, 1), bias=False)\n",
              "        (batchnorm): BatchNorm2d(128, eps=1e-05, momentum=0.1, affine=True, track_running_stats=True)\n",
              "        (relu): ReLU(inplace=True)\n",
              "      )\n",
              "      (cb_3): conv2DBatchNorm(\n",
              "        (conv): Conv2d(128, 512, kernel_size=(1, 1), stride=(1, 1), bias=False)\n",
              "        (batchnorm): BatchNorm2d(512, eps=1e-05, momentum=0.1, affine=True, track_running_stats=True)\n",
              "      )\n",
              "      (cb_residual): conv2DBatchNorm(\n",
              "        (conv): Conv2d(256, 512, kernel_size=(1, 1), stride=(2, 2), bias=False)\n",
              "        (batchnorm): BatchNorm2d(512, eps=1e-05, momentum=0.1, affine=True, track_running_stats=True)\n",
              "      )\n",
              "      (relu): ReLU(inplace=True)\n",
              "    )\n",
              "    (block2): bottleNeckIdentifyPSP(\n",
              "      (cbr_1): conv2DBatchNormRelu(\n",
              "        (conv): Conv2d(512, 128, kernel_size=(1, 1), stride=(1, 1), bias=False)\n",
              "        (batchnorm): BatchNorm2d(128, eps=1e-05, momentum=0.1, affine=True, track_running_stats=True)\n",
              "        (relu): ReLU(inplace=True)\n",
              "      )\n",
              "      (cbr_2): conv2DBatchNormRelu(\n",
              "        (conv): Conv2d(128, 128, kernel_size=(3, 3), stride=(1, 1), padding=(1, 1), bias=False)\n",
              "        (batchnorm): BatchNorm2d(128, eps=1e-05, momentum=0.1, affine=True, track_running_stats=True)\n",
              "        (relu): ReLU(inplace=True)\n",
              "      )\n",
              "      (cb_3): conv2DBatchNorm(\n",
              "        (conv): Conv2d(128, 512, kernel_size=(1, 1), stride=(1, 1), bias=False)\n",
              "        (batchnorm): BatchNorm2d(512, eps=1e-05, momentum=0.1, affine=True, track_running_stats=True)\n",
              "      )\n",
              "      (relu): ReLU(inplace=True)\n",
              "    )\n",
              "    (block3): bottleNeckIdentifyPSP(\n",
              "      (cbr_1): conv2DBatchNormRelu(\n",
              "        (conv): Conv2d(512, 128, kernel_size=(1, 1), stride=(1, 1), bias=False)\n",
              "        (batchnorm): BatchNorm2d(128, eps=1e-05, momentum=0.1, affine=True, track_running_stats=True)\n",
              "        (relu): ReLU(inplace=True)\n",
              "      )\n",
              "      (cbr_2): conv2DBatchNormRelu(\n",
              "        (conv): Conv2d(128, 128, kernel_size=(3, 3), stride=(1, 1), padding=(1, 1), bias=False)\n",
              "        (batchnorm): BatchNorm2d(128, eps=1e-05, momentum=0.1, affine=True, track_running_stats=True)\n",
              "        (relu): ReLU(inplace=True)\n",
              "      )\n",
              "      (cb_3): conv2DBatchNorm(\n",
              "        (conv): Conv2d(128, 512, kernel_size=(1, 1), stride=(1, 1), bias=False)\n",
              "        (batchnorm): BatchNorm2d(512, eps=1e-05, momentum=0.1, affine=True, track_running_stats=True)\n",
              "      )\n",
              "      (relu): ReLU(inplace=True)\n",
              "    )\n",
              "    (block4): bottleNeckIdentifyPSP(\n",
              "      (cbr_1): conv2DBatchNormRelu(\n",
              "        (conv): Conv2d(512, 128, kernel_size=(1, 1), stride=(1, 1), bias=False)\n",
              "        (batchnorm): BatchNorm2d(128, eps=1e-05, momentum=0.1, affine=True, track_running_stats=True)\n",
              "        (relu): ReLU(inplace=True)\n",
              "      )\n",
              "      (cbr_2): conv2DBatchNormRelu(\n",
              "        (conv): Conv2d(128, 128, kernel_size=(3, 3), stride=(1, 1), padding=(1, 1), bias=False)\n",
              "        (batchnorm): BatchNorm2d(128, eps=1e-05, momentum=0.1, affine=True, track_running_stats=True)\n",
              "        (relu): ReLU(inplace=True)\n",
              "      )\n",
              "      (cb_3): conv2DBatchNorm(\n",
              "        (conv): Conv2d(128, 512, kernel_size=(1, 1), stride=(1, 1), bias=False)\n",
              "        (batchnorm): BatchNorm2d(512, eps=1e-05, momentum=0.1, affine=True, track_running_stats=True)\n",
              "      )\n",
              "      (relu): ReLU(inplace=True)\n",
              "    )\n",
              "  )\n",
              "  (feature_dilated_res_1): ResidualBlockPSP(\n",
              "    (block1): bottleNeckPSP(\n",
              "      (cbr_1): conv2DBatchNormRelu(\n",
              "        (conv): Conv2d(512, 256, kernel_size=(1, 1), stride=(1, 1), bias=False)\n",
              "        (batchnorm): BatchNorm2d(256, eps=1e-05, momentum=0.1, affine=True, track_running_stats=True)\n",
              "        (relu): ReLU(inplace=True)\n",
              "      )\n",
              "      (cbr_2): conv2DBatchNormRelu(\n",
              "        (conv): Conv2d(256, 256, kernel_size=(3, 3), stride=(1, 1), padding=(2, 2), dilation=(2, 2), bias=False)\n",
              "        (batchnorm): BatchNorm2d(256, eps=1e-05, momentum=0.1, affine=True, track_running_stats=True)\n",
              "        (relu): ReLU(inplace=True)\n",
              "      )\n",
              "      (cb_3): conv2DBatchNorm(\n",
              "        (conv): Conv2d(256, 1024, kernel_size=(1, 1), stride=(1, 1), bias=False)\n",
              "        (batchnorm): BatchNorm2d(1024, eps=1e-05, momentum=0.1, affine=True, track_running_stats=True)\n",
              "      )\n",
              "      (cb_residual): conv2DBatchNorm(\n",
              "        (conv): Conv2d(512, 1024, kernel_size=(1, 1), stride=(1, 1), bias=False)\n",
              "        (batchnorm): BatchNorm2d(1024, eps=1e-05, momentum=0.1, affine=True, track_running_stats=True)\n",
              "      )\n",
              "      (relu): ReLU(inplace=True)\n",
              "    )\n",
              "    (block2): bottleNeckIdentifyPSP(\n",
              "      (cbr_1): conv2DBatchNormRelu(\n",
              "        (conv): Conv2d(1024, 256, kernel_size=(1, 1), stride=(1, 1), bias=False)\n",
              "        (batchnorm): BatchNorm2d(256, eps=1e-05, momentum=0.1, affine=True, track_running_stats=True)\n",
              "        (relu): ReLU(inplace=True)\n",
              "      )\n",
              "      (cbr_2): conv2DBatchNormRelu(\n",
              "        (conv): Conv2d(256, 256, kernel_size=(3, 3), stride=(1, 1), padding=(2, 2), dilation=(2, 2), bias=False)\n",
              "        (batchnorm): BatchNorm2d(256, eps=1e-05, momentum=0.1, affine=True, track_running_stats=True)\n",
              "        (relu): ReLU(inplace=True)\n",
              "      )\n",
              "      (cb_3): conv2DBatchNorm(\n",
              "        (conv): Conv2d(256, 1024, kernel_size=(1, 1), stride=(1, 1), bias=False)\n",
              "        (batchnorm): BatchNorm2d(1024, eps=1e-05, momentum=0.1, affine=True, track_running_stats=True)\n",
              "      )\n",
              "      (relu): ReLU(inplace=True)\n",
              "    )\n",
              "    (block3): bottleNeckIdentifyPSP(\n",
              "      (cbr_1): conv2DBatchNormRelu(\n",
              "        (conv): Conv2d(1024, 256, kernel_size=(1, 1), stride=(1, 1), bias=False)\n",
              "        (batchnorm): BatchNorm2d(256, eps=1e-05, momentum=0.1, affine=True, track_running_stats=True)\n",
              "        (relu): ReLU(inplace=True)\n",
              "      )\n",
              "      (cbr_2): conv2DBatchNormRelu(\n",
              "        (conv): Conv2d(256, 256, kernel_size=(3, 3), stride=(1, 1), padding=(2, 2), dilation=(2, 2), bias=False)\n",
              "        (batchnorm): BatchNorm2d(256, eps=1e-05, momentum=0.1, affine=True, track_running_stats=True)\n",
              "        (relu): ReLU(inplace=True)\n",
              "      )\n",
              "      (cb_3): conv2DBatchNorm(\n",
              "        (conv): Conv2d(256, 1024, kernel_size=(1, 1), stride=(1, 1), bias=False)\n",
              "        (batchnorm): BatchNorm2d(1024, eps=1e-05, momentum=0.1, affine=True, track_running_stats=True)\n",
              "      )\n",
              "      (relu): ReLU(inplace=True)\n",
              "    )\n",
              "    (block4): bottleNeckIdentifyPSP(\n",
              "      (cbr_1): conv2DBatchNormRelu(\n",
              "        (conv): Conv2d(1024, 256, kernel_size=(1, 1), stride=(1, 1), bias=False)\n",
              "        (batchnorm): BatchNorm2d(256, eps=1e-05, momentum=0.1, affine=True, track_running_stats=True)\n",
              "        (relu): ReLU(inplace=True)\n",
              "      )\n",
              "      (cbr_2): conv2DBatchNormRelu(\n",
              "        (conv): Conv2d(256, 256, kernel_size=(3, 3), stride=(1, 1), padding=(2, 2), dilation=(2, 2), bias=False)\n",
              "        (batchnorm): BatchNorm2d(256, eps=1e-05, momentum=0.1, affine=True, track_running_stats=True)\n",
              "        (relu): ReLU(inplace=True)\n",
              "      )\n",
              "      (cb_3): conv2DBatchNorm(\n",
              "        (conv): Conv2d(256, 1024, kernel_size=(1, 1), stride=(1, 1), bias=False)\n",
              "        (batchnorm): BatchNorm2d(1024, eps=1e-05, momentum=0.1, affine=True, track_running_stats=True)\n",
              "      )\n",
              "      (relu): ReLU(inplace=True)\n",
              "    )\n",
              "    (block5): bottleNeckIdentifyPSP(\n",
              "      (cbr_1): conv2DBatchNormRelu(\n",
              "        (conv): Conv2d(1024, 256, kernel_size=(1, 1), stride=(1, 1), bias=False)\n",
              "        (batchnorm): BatchNorm2d(256, eps=1e-05, momentum=0.1, affine=True, track_running_stats=True)\n",
              "        (relu): ReLU(inplace=True)\n",
              "      )\n",
              "      (cbr_2): conv2DBatchNormRelu(\n",
              "        (conv): Conv2d(256, 256, kernel_size=(3, 3), stride=(1, 1), padding=(2, 2), dilation=(2, 2), bias=False)\n",
              "        (batchnorm): BatchNorm2d(256, eps=1e-05, momentum=0.1, affine=True, track_running_stats=True)\n",
              "        (relu): ReLU(inplace=True)\n",
              "      )\n",
              "      (cb_3): conv2DBatchNorm(\n",
              "        (conv): Conv2d(256, 1024, kernel_size=(1, 1), stride=(1, 1), bias=False)\n",
              "        (batchnorm): BatchNorm2d(1024, eps=1e-05, momentum=0.1, affine=True, track_running_stats=True)\n",
              "      )\n",
              "      (relu): ReLU(inplace=True)\n",
              "    )\n",
              "    (block6): bottleNeckIdentifyPSP(\n",
              "      (cbr_1): conv2DBatchNormRelu(\n",
              "        (conv): Conv2d(1024, 256, kernel_size=(1, 1), stride=(1, 1), bias=False)\n",
              "        (batchnorm): BatchNorm2d(256, eps=1e-05, momentum=0.1, affine=True, track_running_stats=True)\n",
              "        (relu): ReLU(inplace=True)\n",
              "      )\n",
              "      (cbr_2): conv2DBatchNormRelu(\n",
              "        (conv): Conv2d(256, 256, kernel_size=(3, 3), stride=(1, 1), padding=(2, 2), dilation=(2, 2), bias=False)\n",
              "        (batchnorm): BatchNorm2d(256, eps=1e-05, momentum=0.1, affine=True, track_running_stats=True)\n",
              "        (relu): ReLU(inplace=True)\n",
              "      )\n",
              "      (cb_3): conv2DBatchNorm(\n",
              "        (conv): Conv2d(256, 1024, kernel_size=(1, 1), stride=(1, 1), bias=False)\n",
              "        (batchnorm): BatchNorm2d(1024, eps=1e-05, momentum=0.1, affine=True, track_running_stats=True)\n",
              "      )\n",
              "      (relu): ReLU(inplace=True)\n",
              "    )\n",
              "  )\n",
              "  (feature_dilated_res_2): ResidualBlockPSP(\n",
              "    (block1): bottleNeckPSP(\n",
              "      (cbr_1): conv2DBatchNormRelu(\n",
              "        (conv): Conv2d(1024, 512, kernel_size=(1, 1), stride=(1, 1), bias=False)\n",
              "        (batchnorm): BatchNorm2d(512, eps=1e-05, momentum=0.1, affine=True, track_running_stats=True)\n",
              "        (relu): ReLU(inplace=True)\n",
              "      )\n",
              "      (cbr_2): conv2DBatchNormRelu(\n",
              "        (conv): Conv2d(512, 512, kernel_size=(3, 3), stride=(1, 1), padding=(4, 4), dilation=(4, 4), bias=False)\n",
              "        (batchnorm): BatchNorm2d(512, eps=1e-05, momentum=0.1, affine=True, track_running_stats=True)\n",
              "        (relu): ReLU(inplace=True)\n",
              "      )\n",
              "      (cb_3): conv2DBatchNorm(\n",
              "        (conv): Conv2d(512, 2048, kernel_size=(1, 1), stride=(1, 1), bias=False)\n",
              "        (batchnorm): BatchNorm2d(2048, eps=1e-05, momentum=0.1, affine=True, track_running_stats=True)\n",
              "      )\n",
              "      (cb_residual): conv2DBatchNorm(\n",
              "        (conv): Conv2d(1024, 2048, kernel_size=(1, 1), stride=(1, 1), bias=False)\n",
              "        (batchnorm): BatchNorm2d(2048, eps=1e-05, momentum=0.1, affine=True, track_running_stats=True)\n",
              "      )\n",
              "      (relu): ReLU(inplace=True)\n",
              "    )\n",
              "    (block2): bottleNeckIdentifyPSP(\n",
              "      (cbr_1): conv2DBatchNormRelu(\n",
              "        (conv): Conv2d(2048, 512, kernel_size=(1, 1), stride=(1, 1), bias=False)\n",
              "        (batchnorm): BatchNorm2d(512, eps=1e-05, momentum=0.1, affine=True, track_running_stats=True)\n",
              "        (relu): ReLU(inplace=True)\n",
              "      )\n",
              "      (cbr_2): conv2DBatchNormRelu(\n",
              "        (conv): Conv2d(512, 512, kernel_size=(3, 3), stride=(1, 1), padding=(4, 4), dilation=(4, 4), bias=False)\n",
              "        (batchnorm): BatchNorm2d(512, eps=1e-05, momentum=0.1, affine=True, track_running_stats=True)\n",
              "        (relu): ReLU(inplace=True)\n",
              "      )\n",
              "      (cb_3): conv2DBatchNorm(\n",
              "        (conv): Conv2d(512, 2048, kernel_size=(1, 1), stride=(1, 1), bias=False)\n",
              "        (batchnorm): BatchNorm2d(2048, eps=1e-05, momentum=0.1, affine=True, track_running_stats=True)\n",
              "      )\n",
              "      (relu): ReLU(inplace=True)\n",
              "    )\n",
              "    (block3): bottleNeckIdentifyPSP(\n",
              "      (cbr_1): conv2DBatchNormRelu(\n",
              "        (conv): Conv2d(2048, 512, kernel_size=(1, 1), stride=(1, 1), bias=False)\n",
              "        (batchnorm): BatchNorm2d(512, eps=1e-05, momentum=0.1, affine=True, track_running_stats=True)\n",
              "        (relu): ReLU(inplace=True)\n",
              "      )\n",
              "      (cbr_2): conv2DBatchNormRelu(\n",
              "        (conv): Conv2d(512, 512, kernel_size=(3, 3), stride=(1, 1), padding=(4, 4), dilation=(4, 4), bias=False)\n",
              "        (batchnorm): BatchNorm2d(512, eps=1e-05, momentum=0.1, affine=True, track_running_stats=True)\n",
              "        (relu): ReLU(inplace=True)\n",
              "      )\n",
              "      (cb_3): conv2DBatchNorm(\n",
              "        (conv): Conv2d(512, 2048, kernel_size=(1, 1), stride=(1, 1), bias=False)\n",
              "        (batchnorm): BatchNorm2d(2048, eps=1e-05, momentum=0.1, affine=True, track_running_stats=True)\n",
              "      )\n",
              "      (relu): ReLU(inplace=True)\n",
              "    )\n",
              "  )\n",
              "  (pyramid_pooling): PyramidPooling(\n",
              "    (avpool_1): AdaptiveAvgPool2d(output_size=6)\n",
              "    (cbr_1): conv2DBatchNormRelu(\n",
              "      (conv): Conv2d(2048, 512, kernel_size=(1, 1), stride=(1, 1), bias=False)\n",
              "      (batchnorm): BatchNorm2d(512, eps=1e-05, momentum=0.1, affine=True, track_running_stats=True)\n",
              "      (relu): ReLU(inplace=True)\n",
              "    )\n",
              "    (avpool_2): AdaptiveAvgPool2d(output_size=3)\n",
              "    (cbr_2): conv2DBatchNormRelu(\n",
              "      (conv): Conv2d(2048, 512, kernel_size=(1, 1), stride=(1, 1), bias=False)\n",
              "      (batchnorm): BatchNorm2d(512, eps=1e-05, momentum=0.1, affine=True, track_running_stats=True)\n",
              "      (relu): ReLU(inplace=True)\n",
              "    )\n",
              "    (avpool_3): AdaptiveAvgPool2d(output_size=2)\n",
              "    (cbr_3): conv2DBatchNormRelu(\n",
              "      (conv): Conv2d(2048, 512, kernel_size=(1, 1), stride=(1, 1), bias=False)\n",
              "      (batchnorm): BatchNorm2d(512, eps=1e-05, momentum=0.1, affine=True, track_running_stats=True)\n",
              "      (relu): ReLU(inplace=True)\n",
              "    )\n",
              "    (avpool_4): AdaptiveAvgPool2d(output_size=1)\n",
              "    (cbr_4): conv2DBatchNormRelu(\n",
              "      (conv): Conv2d(2048, 512, kernel_size=(1, 1), stride=(1, 1), bias=False)\n",
              "      (batchnorm): BatchNorm2d(512, eps=1e-05, momentum=0.1, affine=True, track_running_stats=True)\n",
              "      (relu): ReLU(inplace=True)\n",
              "    )\n",
              "  )\n",
              "  (decode_feature): DecodePSPFeature(\n",
              "    (cbr): conv2DBatchNormRelu(\n",
              "      (conv): Conv2d(4096, 512, kernel_size=(3, 3), stride=(1, 1), padding=(1, 1), bias=False)\n",
              "      (batchnorm): BatchNorm2d(512, eps=1e-05, momentum=0.1, affine=True, track_running_stats=True)\n",
              "      (relu): ReLU(inplace=True)\n",
              "    )\n",
              "    (dropout): Dropout2d(p=0.1, inplace=False)\n",
              "    (classification): Conv2d(512, 21, kernel_size=(1, 1), stride=(1, 1))\n",
              "  )\n",
              "  (aux): AuxiliaryPSPlayers(\n",
              "    (cbr): conv2DBatchNormRelu(\n",
              "      (conv): Conv2d(1024, 256, kernel_size=(3, 3), stride=(1, 1), padding=(1, 1), bias=False)\n",
              "      (batchnorm): BatchNorm2d(256, eps=1e-05, momentum=0.1, affine=True, track_running_stats=True)\n",
              "      (relu): ReLU(inplace=True)\n",
              "    )\n",
              "    (dropout): Dropout2d(p=0.1, inplace=False)\n",
              "    (classification): Conv2d(256, 21, kernel_size=(1, 1), stride=(1, 1))\n",
              "  )\n",
              ")"
            ]
          },
          "metadata": {},
          "execution_count": 39
        }
      ]
    },
    {
      "cell_type": "code",
      "source": [
        "# 더미 데이터 작성\n",
        "batch_size = 2\n",
        "dummy_img = torch.rand(batch_size, 3, 475, 475)\n",
        "\n",
        "# 계산\n",
        "outputs = net(dummy_img)\n",
        "print(outputs)\n"
      ],
      "metadata": {
        "id": "Gk07TVmXC_Le"
      },
      "execution_count": null,
      "outputs": []
    },
    {
      "cell_type": "markdown",
      "source": [
        "# 3.PSPNet training"
      ],
      "metadata": {
        "id": "gA_MgEi_F5q1"
      }
    },
    {
      "cell_type": "markdown",
      "source": [
        "## 3.1 사전 준비"
      ],
      "metadata": {
        "id": "4ol41DkIF86R"
      }
    },
    {
      "cell_type": "code",
      "source": [
        "# 패키지 import\n",
        "import random\n",
        "import math\n",
        "import time\n",
        "import pandas as pd\n",
        "import numpy as np\n",
        "\n",
        "import torch\n",
        "import torch.utils.data as data\n",
        "import torch.nn as nn\n",
        "import torch.nn.init as init\n",
        "import torch.nn.functional as F\n",
        "import torch.optim as optim"
      ],
      "metadata": {
        "id": "WD5R-Xy4DcNt"
      },
      "execution_count": 66,
      "outputs": []
    },
    {
      "cell_type": "code",
      "source": [
        "# 초기설정\n",
        "# Setup seeds\n",
        "torch.manual_seed(1234)\n",
        "np.random.seed(1234)\n",
        "random.seed(1234)"
      ],
      "metadata": {
        "id": "pCL8fHfdGRCG"
      },
      "execution_count": 67,
      "outputs": []
    },
    {
      "cell_type": "markdown",
      "source": [
        "## 3.2 네트워크 모델 작성"
      ],
      "metadata": {
        "id": "F26hMhC0Gg2H"
      }
    },
    {
      "cell_type": "code",
      "source": [
        "# 파인튜닝으로 PSPNet 작성\n",
        "# ADE20K 데이터셋의 학습된 모델 사용. ADE20K는 클래스 수가 150\n",
        "\n",
        "net = PSPNet(n_classes=150)\n",
        "\n",
        "# ADE20K 학습된 파라미터 읽기\n",
        "state_dict = torch.load('./weights/pspnet50_ADE20K.pth')\n",
        "net.load_state_dict(state_dict)\n",
        "\n",
        "# 분류용 합성곱층을, 출력수  21로 바꿈\n",
        "n_classes = 21\n",
        "net.decode_feature.classification = nn.Conv2d(\n",
        "    in_channels=512, out_channels=n_classes, kernel_size=1, stride=1, padding=0)\n",
        "\n",
        "net.aux.classification = nn.Conv2d(\n",
        "    in_channels=256, out_channels=n_classes, kernel_size=1, stride=1, padding=0)\n",
        "\n",
        "# 교체한 합성곱층을 초기화. 활성화 함수가 시그모이드 함수이므로 Xavier 초기화 사용\n",
        "def weights_init(m):\n",
        "  if isinstance(m, nn.Conv2d):\n",
        "    nn.init.xavier_normal_(m.weight.data)\n",
        "    if m.bias is not None: # 바이어스 항이 있는 경우\n",
        "      nn.init.constant_(m.bias, 0.0)\n",
        "\n",
        "net.decode_feature.classification.apply(weights_init)\n",
        "net.aux.classification.apply(weights_init)\n",
        "\n",
        "print('네트워크 설정 완료. 학습된 가중치를 로드했습니다')"
      ],
      "metadata": {
        "colab": {
          "base_uri": "https://localhost:8080/"
        },
        "id": "nCvtmfbiGdOr",
        "outputId": "11c6c841-5f6b-458f-bcb7-a2199aba292f"
      },
      "execution_count": 41,
      "outputs": [
        {
          "output_type": "stream",
          "name": "stdout",
          "text": [
            "네트워크 설정 완료. 학습된 가중치를 로드했습니다\n"
          ]
        }
      ]
    },
    {
      "cell_type": "code",
      "source": [
        "net"
      ],
      "metadata": {
        "colab": {
          "base_uri": "https://localhost:8080/"
        },
        "id": "Z1QP2COHH1Je",
        "outputId": "9c274a38-1cc3-4f84-9229-1c6240ccc6d0"
      },
      "execution_count": 42,
      "outputs": [
        {
          "output_type": "execute_result",
          "data": {
            "text/plain": [
              "PSPNet(\n",
              "  (feature_conv): FeatureMap_Convolution(\n",
              "    (cbnr_1): conv2DBatchNormRelu(\n",
              "      (conv): Conv2d(3, 64, kernel_size=(3, 3), stride=(2, 2), padding=(1, 1), bias=False)\n",
              "      (batchnorm): BatchNorm2d(64, eps=1e-05, momentum=0.1, affine=True, track_running_stats=True)\n",
              "      (relu): ReLU(inplace=True)\n",
              "    )\n",
              "    (cbnr_2): conv2DBatchNormRelu(\n",
              "      (conv): Conv2d(64, 64, kernel_size=(3, 3), stride=(1, 1), padding=(1, 1), bias=False)\n",
              "      (batchnorm): BatchNorm2d(64, eps=1e-05, momentum=0.1, affine=True, track_running_stats=True)\n",
              "      (relu): ReLU(inplace=True)\n",
              "    )\n",
              "    (cbnr_3): conv2DBatchNormRelu(\n",
              "      (conv): Conv2d(64, 128, kernel_size=(3, 3), stride=(1, 1), padding=(1, 1), bias=False)\n",
              "      (batchnorm): BatchNorm2d(128, eps=1e-05, momentum=0.1, affine=True, track_running_stats=True)\n",
              "      (relu): ReLU(inplace=True)\n",
              "    )\n",
              "    (maxpool): MaxPool2d(kernel_size=3, stride=2, padding=1, dilation=1, ceil_mode=False)\n",
              "  )\n",
              "  (feature_res_1): ResidualBlockPSP(\n",
              "    (block1): bottleNeckPSP(\n",
              "      (cbr_1): conv2DBatchNormRelu(\n",
              "        (conv): Conv2d(128, 64, kernel_size=(1, 1), stride=(1, 1), bias=False)\n",
              "        (batchnorm): BatchNorm2d(64, eps=1e-05, momentum=0.1, affine=True, track_running_stats=True)\n",
              "        (relu): ReLU(inplace=True)\n",
              "      )\n",
              "      (cbr_2): conv2DBatchNormRelu(\n",
              "        (conv): Conv2d(64, 64, kernel_size=(3, 3), stride=(1, 1), padding=(1, 1), bias=False)\n",
              "        (batchnorm): BatchNorm2d(64, eps=1e-05, momentum=0.1, affine=True, track_running_stats=True)\n",
              "        (relu): ReLU(inplace=True)\n",
              "      )\n",
              "      (cb_3): conv2DBatchNorm(\n",
              "        (conv): Conv2d(64, 256, kernel_size=(1, 1), stride=(1, 1), bias=False)\n",
              "        (batchnorm): BatchNorm2d(256, eps=1e-05, momentum=0.1, affine=True, track_running_stats=True)\n",
              "      )\n",
              "      (cb_residual): conv2DBatchNorm(\n",
              "        (conv): Conv2d(128, 256, kernel_size=(1, 1), stride=(1, 1), bias=False)\n",
              "        (batchnorm): BatchNorm2d(256, eps=1e-05, momentum=0.1, affine=True, track_running_stats=True)\n",
              "      )\n",
              "      (relu): ReLU(inplace=True)\n",
              "    )\n",
              "    (block2): bottleNeckIdentifyPSP(\n",
              "      (cbr_1): conv2DBatchNormRelu(\n",
              "        (conv): Conv2d(256, 64, kernel_size=(1, 1), stride=(1, 1), bias=False)\n",
              "        (batchnorm): BatchNorm2d(64, eps=1e-05, momentum=0.1, affine=True, track_running_stats=True)\n",
              "        (relu): ReLU(inplace=True)\n",
              "      )\n",
              "      (cbr_2): conv2DBatchNormRelu(\n",
              "        (conv): Conv2d(64, 64, kernel_size=(3, 3), stride=(1, 1), padding=(1, 1), bias=False)\n",
              "        (batchnorm): BatchNorm2d(64, eps=1e-05, momentum=0.1, affine=True, track_running_stats=True)\n",
              "        (relu): ReLU(inplace=True)\n",
              "      )\n",
              "      (cb_3): conv2DBatchNorm(\n",
              "        (conv): Conv2d(64, 256, kernel_size=(1, 1), stride=(1, 1), bias=False)\n",
              "        (batchnorm): BatchNorm2d(256, eps=1e-05, momentum=0.1, affine=True, track_running_stats=True)\n",
              "      )\n",
              "      (relu): ReLU(inplace=True)\n",
              "    )\n",
              "    (block3): bottleNeckIdentifyPSP(\n",
              "      (cbr_1): conv2DBatchNormRelu(\n",
              "        (conv): Conv2d(256, 64, kernel_size=(1, 1), stride=(1, 1), bias=False)\n",
              "        (batchnorm): BatchNorm2d(64, eps=1e-05, momentum=0.1, affine=True, track_running_stats=True)\n",
              "        (relu): ReLU(inplace=True)\n",
              "      )\n",
              "      (cbr_2): conv2DBatchNormRelu(\n",
              "        (conv): Conv2d(64, 64, kernel_size=(3, 3), stride=(1, 1), padding=(1, 1), bias=False)\n",
              "        (batchnorm): BatchNorm2d(64, eps=1e-05, momentum=0.1, affine=True, track_running_stats=True)\n",
              "        (relu): ReLU(inplace=True)\n",
              "      )\n",
              "      (cb_3): conv2DBatchNorm(\n",
              "        (conv): Conv2d(64, 256, kernel_size=(1, 1), stride=(1, 1), bias=False)\n",
              "        (batchnorm): BatchNorm2d(256, eps=1e-05, momentum=0.1, affine=True, track_running_stats=True)\n",
              "      )\n",
              "      (relu): ReLU(inplace=True)\n",
              "    )\n",
              "  )\n",
              "  (feature_res_2): ResidualBlockPSP(\n",
              "    (block1): bottleNeckPSP(\n",
              "      (cbr_1): conv2DBatchNormRelu(\n",
              "        (conv): Conv2d(256, 128, kernel_size=(1, 1), stride=(1, 1), bias=False)\n",
              "        (batchnorm): BatchNorm2d(128, eps=1e-05, momentum=0.1, affine=True, track_running_stats=True)\n",
              "        (relu): ReLU(inplace=True)\n",
              "      )\n",
              "      (cbr_2): conv2DBatchNormRelu(\n",
              "        (conv): Conv2d(128, 128, kernel_size=(3, 3), stride=(2, 2), padding=(1, 1), bias=False)\n",
              "        (batchnorm): BatchNorm2d(128, eps=1e-05, momentum=0.1, affine=True, track_running_stats=True)\n",
              "        (relu): ReLU(inplace=True)\n",
              "      )\n",
              "      (cb_3): conv2DBatchNorm(\n",
              "        (conv): Conv2d(128, 512, kernel_size=(1, 1), stride=(1, 1), bias=False)\n",
              "        (batchnorm): BatchNorm2d(512, eps=1e-05, momentum=0.1, affine=True, track_running_stats=True)\n",
              "      )\n",
              "      (cb_residual): conv2DBatchNorm(\n",
              "        (conv): Conv2d(256, 512, kernel_size=(1, 1), stride=(2, 2), bias=False)\n",
              "        (batchnorm): BatchNorm2d(512, eps=1e-05, momentum=0.1, affine=True, track_running_stats=True)\n",
              "      )\n",
              "      (relu): ReLU(inplace=True)\n",
              "    )\n",
              "    (block2): bottleNeckIdentifyPSP(\n",
              "      (cbr_1): conv2DBatchNormRelu(\n",
              "        (conv): Conv2d(512, 128, kernel_size=(1, 1), stride=(1, 1), bias=False)\n",
              "        (batchnorm): BatchNorm2d(128, eps=1e-05, momentum=0.1, affine=True, track_running_stats=True)\n",
              "        (relu): ReLU(inplace=True)\n",
              "      )\n",
              "      (cbr_2): conv2DBatchNormRelu(\n",
              "        (conv): Conv2d(128, 128, kernel_size=(3, 3), stride=(1, 1), padding=(1, 1), bias=False)\n",
              "        (batchnorm): BatchNorm2d(128, eps=1e-05, momentum=0.1, affine=True, track_running_stats=True)\n",
              "        (relu): ReLU(inplace=True)\n",
              "      )\n",
              "      (cb_3): conv2DBatchNorm(\n",
              "        (conv): Conv2d(128, 512, kernel_size=(1, 1), stride=(1, 1), bias=False)\n",
              "        (batchnorm): BatchNorm2d(512, eps=1e-05, momentum=0.1, affine=True, track_running_stats=True)\n",
              "      )\n",
              "      (relu): ReLU(inplace=True)\n",
              "    )\n",
              "    (block3): bottleNeckIdentifyPSP(\n",
              "      (cbr_1): conv2DBatchNormRelu(\n",
              "        (conv): Conv2d(512, 128, kernel_size=(1, 1), stride=(1, 1), bias=False)\n",
              "        (batchnorm): BatchNorm2d(128, eps=1e-05, momentum=0.1, affine=True, track_running_stats=True)\n",
              "        (relu): ReLU(inplace=True)\n",
              "      )\n",
              "      (cbr_2): conv2DBatchNormRelu(\n",
              "        (conv): Conv2d(128, 128, kernel_size=(3, 3), stride=(1, 1), padding=(1, 1), bias=False)\n",
              "        (batchnorm): BatchNorm2d(128, eps=1e-05, momentum=0.1, affine=True, track_running_stats=True)\n",
              "        (relu): ReLU(inplace=True)\n",
              "      )\n",
              "      (cb_3): conv2DBatchNorm(\n",
              "        (conv): Conv2d(128, 512, kernel_size=(1, 1), stride=(1, 1), bias=False)\n",
              "        (batchnorm): BatchNorm2d(512, eps=1e-05, momentum=0.1, affine=True, track_running_stats=True)\n",
              "      )\n",
              "      (relu): ReLU(inplace=True)\n",
              "    )\n",
              "    (block4): bottleNeckIdentifyPSP(\n",
              "      (cbr_1): conv2DBatchNormRelu(\n",
              "        (conv): Conv2d(512, 128, kernel_size=(1, 1), stride=(1, 1), bias=False)\n",
              "        (batchnorm): BatchNorm2d(128, eps=1e-05, momentum=0.1, affine=True, track_running_stats=True)\n",
              "        (relu): ReLU(inplace=True)\n",
              "      )\n",
              "      (cbr_2): conv2DBatchNormRelu(\n",
              "        (conv): Conv2d(128, 128, kernel_size=(3, 3), stride=(1, 1), padding=(1, 1), bias=False)\n",
              "        (batchnorm): BatchNorm2d(128, eps=1e-05, momentum=0.1, affine=True, track_running_stats=True)\n",
              "        (relu): ReLU(inplace=True)\n",
              "      )\n",
              "      (cb_3): conv2DBatchNorm(\n",
              "        (conv): Conv2d(128, 512, kernel_size=(1, 1), stride=(1, 1), bias=False)\n",
              "        (batchnorm): BatchNorm2d(512, eps=1e-05, momentum=0.1, affine=True, track_running_stats=True)\n",
              "      )\n",
              "      (relu): ReLU(inplace=True)\n",
              "    )\n",
              "  )\n",
              "  (feature_dilated_res_1): ResidualBlockPSP(\n",
              "    (block1): bottleNeckPSP(\n",
              "      (cbr_1): conv2DBatchNormRelu(\n",
              "        (conv): Conv2d(512, 256, kernel_size=(1, 1), stride=(1, 1), bias=False)\n",
              "        (batchnorm): BatchNorm2d(256, eps=1e-05, momentum=0.1, affine=True, track_running_stats=True)\n",
              "        (relu): ReLU(inplace=True)\n",
              "      )\n",
              "      (cbr_2): conv2DBatchNormRelu(\n",
              "        (conv): Conv2d(256, 256, kernel_size=(3, 3), stride=(1, 1), padding=(2, 2), dilation=(2, 2), bias=False)\n",
              "        (batchnorm): BatchNorm2d(256, eps=1e-05, momentum=0.1, affine=True, track_running_stats=True)\n",
              "        (relu): ReLU(inplace=True)\n",
              "      )\n",
              "      (cb_3): conv2DBatchNorm(\n",
              "        (conv): Conv2d(256, 1024, kernel_size=(1, 1), stride=(1, 1), bias=False)\n",
              "        (batchnorm): BatchNorm2d(1024, eps=1e-05, momentum=0.1, affine=True, track_running_stats=True)\n",
              "      )\n",
              "      (cb_residual): conv2DBatchNorm(\n",
              "        (conv): Conv2d(512, 1024, kernel_size=(1, 1), stride=(1, 1), bias=False)\n",
              "        (batchnorm): BatchNorm2d(1024, eps=1e-05, momentum=0.1, affine=True, track_running_stats=True)\n",
              "      )\n",
              "      (relu): ReLU(inplace=True)\n",
              "    )\n",
              "    (block2): bottleNeckIdentifyPSP(\n",
              "      (cbr_1): conv2DBatchNormRelu(\n",
              "        (conv): Conv2d(1024, 256, kernel_size=(1, 1), stride=(1, 1), bias=False)\n",
              "        (batchnorm): BatchNorm2d(256, eps=1e-05, momentum=0.1, affine=True, track_running_stats=True)\n",
              "        (relu): ReLU(inplace=True)\n",
              "      )\n",
              "      (cbr_2): conv2DBatchNormRelu(\n",
              "        (conv): Conv2d(256, 256, kernel_size=(3, 3), stride=(1, 1), padding=(2, 2), dilation=(2, 2), bias=False)\n",
              "        (batchnorm): BatchNorm2d(256, eps=1e-05, momentum=0.1, affine=True, track_running_stats=True)\n",
              "        (relu): ReLU(inplace=True)\n",
              "      )\n",
              "      (cb_3): conv2DBatchNorm(\n",
              "        (conv): Conv2d(256, 1024, kernel_size=(1, 1), stride=(1, 1), bias=False)\n",
              "        (batchnorm): BatchNorm2d(1024, eps=1e-05, momentum=0.1, affine=True, track_running_stats=True)\n",
              "      )\n",
              "      (relu): ReLU(inplace=True)\n",
              "    )\n",
              "    (block3): bottleNeckIdentifyPSP(\n",
              "      (cbr_1): conv2DBatchNormRelu(\n",
              "        (conv): Conv2d(1024, 256, kernel_size=(1, 1), stride=(1, 1), bias=False)\n",
              "        (batchnorm): BatchNorm2d(256, eps=1e-05, momentum=0.1, affine=True, track_running_stats=True)\n",
              "        (relu): ReLU(inplace=True)\n",
              "      )\n",
              "      (cbr_2): conv2DBatchNormRelu(\n",
              "        (conv): Conv2d(256, 256, kernel_size=(3, 3), stride=(1, 1), padding=(2, 2), dilation=(2, 2), bias=False)\n",
              "        (batchnorm): BatchNorm2d(256, eps=1e-05, momentum=0.1, affine=True, track_running_stats=True)\n",
              "        (relu): ReLU(inplace=True)\n",
              "      )\n",
              "      (cb_3): conv2DBatchNorm(\n",
              "        (conv): Conv2d(256, 1024, kernel_size=(1, 1), stride=(1, 1), bias=False)\n",
              "        (batchnorm): BatchNorm2d(1024, eps=1e-05, momentum=0.1, affine=True, track_running_stats=True)\n",
              "      )\n",
              "      (relu): ReLU(inplace=True)\n",
              "    )\n",
              "    (block4): bottleNeckIdentifyPSP(\n",
              "      (cbr_1): conv2DBatchNormRelu(\n",
              "        (conv): Conv2d(1024, 256, kernel_size=(1, 1), stride=(1, 1), bias=False)\n",
              "        (batchnorm): BatchNorm2d(256, eps=1e-05, momentum=0.1, affine=True, track_running_stats=True)\n",
              "        (relu): ReLU(inplace=True)\n",
              "      )\n",
              "      (cbr_2): conv2DBatchNormRelu(\n",
              "        (conv): Conv2d(256, 256, kernel_size=(3, 3), stride=(1, 1), padding=(2, 2), dilation=(2, 2), bias=False)\n",
              "        (batchnorm): BatchNorm2d(256, eps=1e-05, momentum=0.1, affine=True, track_running_stats=True)\n",
              "        (relu): ReLU(inplace=True)\n",
              "      )\n",
              "      (cb_3): conv2DBatchNorm(\n",
              "        (conv): Conv2d(256, 1024, kernel_size=(1, 1), stride=(1, 1), bias=False)\n",
              "        (batchnorm): BatchNorm2d(1024, eps=1e-05, momentum=0.1, affine=True, track_running_stats=True)\n",
              "      )\n",
              "      (relu): ReLU(inplace=True)\n",
              "    )\n",
              "    (block5): bottleNeckIdentifyPSP(\n",
              "      (cbr_1): conv2DBatchNormRelu(\n",
              "        (conv): Conv2d(1024, 256, kernel_size=(1, 1), stride=(1, 1), bias=False)\n",
              "        (batchnorm): BatchNorm2d(256, eps=1e-05, momentum=0.1, affine=True, track_running_stats=True)\n",
              "        (relu): ReLU(inplace=True)\n",
              "      )\n",
              "      (cbr_2): conv2DBatchNormRelu(\n",
              "        (conv): Conv2d(256, 256, kernel_size=(3, 3), stride=(1, 1), padding=(2, 2), dilation=(2, 2), bias=False)\n",
              "        (batchnorm): BatchNorm2d(256, eps=1e-05, momentum=0.1, affine=True, track_running_stats=True)\n",
              "        (relu): ReLU(inplace=True)\n",
              "      )\n",
              "      (cb_3): conv2DBatchNorm(\n",
              "        (conv): Conv2d(256, 1024, kernel_size=(1, 1), stride=(1, 1), bias=False)\n",
              "        (batchnorm): BatchNorm2d(1024, eps=1e-05, momentum=0.1, affine=True, track_running_stats=True)\n",
              "      )\n",
              "      (relu): ReLU(inplace=True)\n",
              "    )\n",
              "    (block6): bottleNeckIdentifyPSP(\n",
              "      (cbr_1): conv2DBatchNormRelu(\n",
              "        (conv): Conv2d(1024, 256, kernel_size=(1, 1), stride=(1, 1), bias=False)\n",
              "        (batchnorm): BatchNorm2d(256, eps=1e-05, momentum=0.1, affine=True, track_running_stats=True)\n",
              "        (relu): ReLU(inplace=True)\n",
              "      )\n",
              "      (cbr_2): conv2DBatchNormRelu(\n",
              "        (conv): Conv2d(256, 256, kernel_size=(3, 3), stride=(1, 1), padding=(2, 2), dilation=(2, 2), bias=False)\n",
              "        (batchnorm): BatchNorm2d(256, eps=1e-05, momentum=0.1, affine=True, track_running_stats=True)\n",
              "        (relu): ReLU(inplace=True)\n",
              "      )\n",
              "      (cb_3): conv2DBatchNorm(\n",
              "        (conv): Conv2d(256, 1024, kernel_size=(1, 1), stride=(1, 1), bias=False)\n",
              "        (batchnorm): BatchNorm2d(1024, eps=1e-05, momentum=0.1, affine=True, track_running_stats=True)\n",
              "      )\n",
              "      (relu): ReLU(inplace=True)\n",
              "    )\n",
              "  )\n",
              "  (feature_dilated_res_2): ResidualBlockPSP(\n",
              "    (block1): bottleNeckPSP(\n",
              "      (cbr_1): conv2DBatchNormRelu(\n",
              "        (conv): Conv2d(1024, 512, kernel_size=(1, 1), stride=(1, 1), bias=False)\n",
              "        (batchnorm): BatchNorm2d(512, eps=1e-05, momentum=0.1, affine=True, track_running_stats=True)\n",
              "        (relu): ReLU(inplace=True)\n",
              "      )\n",
              "      (cbr_2): conv2DBatchNormRelu(\n",
              "        (conv): Conv2d(512, 512, kernel_size=(3, 3), stride=(1, 1), padding=(4, 4), dilation=(4, 4), bias=False)\n",
              "        (batchnorm): BatchNorm2d(512, eps=1e-05, momentum=0.1, affine=True, track_running_stats=True)\n",
              "        (relu): ReLU(inplace=True)\n",
              "      )\n",
              "      (cb_3): conv2DBatchNorm(\n",
              "        (conv): Conv2d(512, 2048, kernel_size=(1, 1), stride=(1, 1), bias=False)\n",
              "        (batchnorm): BatchNorm2d(2048, eps=1e-05, momentum=0.1, affine=True, track_running_stats=True)\n",
              "      )\n",
              "      (cb_residual): conv2DBatchNorm(\n",
              "        (conv): Conv2d(1024, 2048, kernel_size=(1, 1), stride=(1, 1), bias=False)\n",
              "        (batchnorm): BatchNorm2d(2048, eps=1e-05, momentum=0.1, affine=True, track_running_stats=True)\n",
              "      )\n",
              "      (relu): ReLU(inplace=True)\n",
              "    )\n",
              "    (block2): bottleNeckIdentifyPSP(\n",
              "      (cbr_1): conv2DBatchNormRelu(\n",
              "        (conv): Conv2d(2048, 512, kernel_size=(1, 1), stride=(1, 1), bias=False)\n",
              "        (batchnorm): BatchNorm2d(512, eps=1e-05, momentum=0.1, affine=True, track_running_stats=True)\n",
              "        (relu): ReLU(inplace=True)\n",
              "      )\n",
              "      (cbr_2): conv2DBatchNormRelu(\n",
              "        (conv): Conv2d(512, 512, kernel_size=(3, 3), stride=(1, 1), padding=(4, 4), dilation=(4, 4), bias=False)\n",
              "        (batchnorm): BatchNorm2d(512, eps=1e-05, momentum=0.1, affine=True, track_running_stats=True)\n",
              "        (relu): ReLU(inplace=True)\n",
              "      )\n",
              "      (cb_3): conv2DBatchNorm(\n",
              "        (conv): Conv2d(512, 2048, kernel_size=(1, 1), stride=(1, 1), bias=False)\n",
              "        (batchnorm): BatchNorm2d(2048, eps=1e-05, momentum=0.1, affine=True, track_running_stats=True)\n",
              "      )\n",
              "      (relu): ReLU(inplace=True)\n",
              "    )\n",
              "    (block3): bottleNeckIdentifyPSP(\n",
              "      (cbr_1): conv2DBatchNormRelu(\n",
              "        (conv): Conv2d(2048, 512, kernel_size=(1, 1), stride=(1, 1), bias=False)\n",
              "        (batchnorm): BatchNorm2d(512, eps=1e-05, momentum=0.1, affine=True, track_running_stats=True)\n",
              "        (relu): ReLU(inplace=True)\n",
              "      )\n",
              "      (cbr_2): conv2DBatchNormRelu(\n",
              "        (conv): Conv2d(512, 512, kernel_size=(3, 3), stride=(1, 1), padding=(4, 4), dilation=(4, 4), bias=False)\n",
              "        (batchnorm): BatchNorm2d(512, eps=1e-05, momentum=0.1, affine=True, track_running_stats=True)\n",
              "        (relu): ReLU(inplace=True)\n",
              "      )\n",
              "      (cb_3): conv2DBatchNorm(\n",
              "        (conv): Conv2d(512, 2048, kernel_size=(1, 1), stride=(1, 1), bias=False)\n",
              "        (batchnorm): BatchNorm2d(2048, eps=1e-05, momentum=0.1, affine=True, track_running_stats=True)\n",
              "      )\n",
              "      (relu): ReLU(inplace=True)\n",
              "    )\n",
              "  )\n",
              "  (pyramid_pooling): PyramidPooling(\n",
              "    (avpool_1): AdaptiveAvgPool2d(output_size=6)\n",
              "    (cbr_1): conv2DBatchNormRelu(\n",
              "      (conv): Conv2d(2048, 512, kernel_size=(1, 1), stride=(1, 1), bias=False)\n",
              "      (batchnorm): BatchNorm2d(512, eps=1e-05, momentum=0.1, affine=True, track_running_stats=True)\n",
              "      (relu): ReLU(inplace=True)\n",
              "    )\n",
              "    (avpool_2): AdaptiveAvgPool2d(output_size=3)\n",
              "    (cbr_2): conv2DBatchNormRelu(\n",
              "      (conv): Conv2d(2048, 512, kernel_size=(1, 1), stride=(1, 1), bias=False)\n",
              "      (batchnorm): BatchNorm2d(512, eps=1e-05, momentum=0.1, affine=True, track_running_stats=True)\n",
              "      (relu): ReLU(inplace=True)\n",
              "    )\n",
              "    (avpool_3): AdaptiveAvgPool2d(output_size=2)\n",
              "    (cbr_3): conv2DBatchNormRelu(\n",
              "      (conv): Conv2d(2048, 512, kernel_size=(1, 1), stride=(1, 1), bias=False)\n",
              "      (batchnorm): BatchNorm2d(512, eps=1e-05, momentum=0.1, affine=True, track_running_stats=True)\n",
              "      (relu): ReLU(inplace=True)\n",
              "    )\n",
              "    (avpool_4): AdaptiveAvgPool2d(output_size=1)\n",
              "    (cbr_4): conv2DBatchNormRelu(\n",
              "      (conv): Conv2d(2048, 512, kernel_size=(1, 1), stride=(1, 1), bias=False)\n",
              "      (batchnorm): BatchNorm2d(512, eps=1e-05, momentum=0.1, affine=True, track_running_stats=True)\n",
              "      (relu): ReLU(inplace=True)\n",
              "    )\n",
              "  )\n",
              "  (decode_feature): DecodePSPFeature(\n",
              "    (cbr): conv2DBatchNormRelu(\n",
              "      (conv): Conv2d(4096, 512, kernel_size=(3, 3), stride=(1, 1), padding=(1, 1), bias=False)\n",
              "      (batchnorm): BatchNorm2d(512, eps=1e-05, momentum=0.1, affine=True, track_running_stats=True)\n",
              "      (relu): ReLU(inplace=True)\n",
              "    )\n",
              "    (dropout): Dropout2d(p=0.1, inplace=False)\n",
              "    (classification): Conv2d(512, 21, kernel_size=(1, 1), stride=(1, 1))\n",
              "  )\n",
              "  (aux): AuxiliaryPSPlayers(\n",
              "    (cbr): conv2DBatchNormRelu(\n",
              "      (conv): Conv2d(1024, 256, kernel_size=(3, 3), stride=(1, 1), padding=(1, 1), bias=False)\n",
              "      (batchnorm): BatchNorm2d(256, eps=1e-05, momentum=0.1, affine=True, track_running_stats=True)\n",
              "      (relu): ReLU(inplace=True)\n",
              "    )\n",
              "    (dropout): Dropout2d(p=0.1, inplace=False)\n",
              "    (classification): Conv2d(256, 21, kernel_size=(1, 1), stride=(1, 1))\n",
              "  )\n",
              ")"
            ]
          },
          "metadata": {},
          "execution_count": 42
        }
      ]
    },
    {
      "cell_type": "markdown",
      "source": [
        "## 3.3 손실함수 정의"
      ],
      "metadata": {
        "id": "J5uTi1NWM6VF"
      }
    },
    {
      "cell_type": "code",
      "source": [
        "# 손실함수 정의\n",
        "class PSPLoss(nn.Module):\n",
        "  def __init__(self, aux_weight=0.4):\n",
        "    super(PSPLoss, self).__init__()\n",
        "    self.aux_weight = aux_weight\n",
        "\n",
        "  def forward(self, outputs, targets):\n",
        "    '''\n",
        "    손실함수 계산\n",
        "\n",
        "    Parameters\n",
        "    ----------\n",
        "    outputs : PSPNet의 출력 (tuple)\n",
        "        (output=torch.Size([num_batch, 21, 475, 475]), output_aux=torch.Size([num_batch, 21, 475, 475]))\n",
        "    \n",
        "    targets : [num_batch, 475, 475]\n",
        "        정답 어노테이션 정보\n",
        "    \n",
        "    Returns\n",
        "    -------\n",
        "    loss : 텐서\n",
        "        손실값\n",
        "    '''\n",
        "\n",
        "    loss = F.cross_entropy(outputs[0], targets, reduction='mean')\n",
        "    loss_aux = F.cross_entropy(outputs[1], targets, reduction='meaan')\n",
        "\n",
        "    return loss + self.aux_weight*loss_aux\n",
        "\n",
        "criterion = PSPLoss(aux_weight=0.4)"
      ],
      "metadata": {
        "id": "AtdSLWN1M4Wv"
      },
      "execution_count": 44,
      "outputs": []
    },
    {
      "cell_type": "markdown",
      "source": [
        "## 3.4 최적화기법 설정"
      ],
      "metadata": {
        "id": "kc101TGVN8V8"
      }
    },
    {
      "cell_type": "code",
      "source": [
        "# 파인튜닝으로 학습률 작게\n",
        "\n",
        "optimizer = optim.SGD([\n",
        "            {'params': net.feature_conv.parameters(), 'lr': 1e-3},\n",
        "            {'params': net.feature_res_1.parameters(), 'lr': 1e-3},\n",
        "            {'params': net.feature_res_2.parameters(), 'lr': 1e-3},\n",
        "            {'params': net.feature_dilated_res_1.parameters(), 'lr': 1e-3},\n",
        "            {'params': net.feature_dilated_res_2.parameters(), 'lr': 1e-3},\n",
        "            {'params': net.pyramid_pooling.parameters(), 'lr': 1e-3},\n",
        "            {'params': net.decode_feature.parameters(), 'lr': 1e-2},\n",
        "            {'params': net.aux.parameters(), 'lr': 1e-2},\n",
        "], momentum=0.9, weight_decay=0.0001)\n",
        "\n",
        "# 스케줄러 설정\n",
        "def lambda_epoch(epoch):\n",
        "  max_epoch = 30\n",
        "  return math.pow((1-epoch/max_epoch), 0.9)\n",
        "\n",
        "scheduler = optim.lr_scheduler.LambdaLR(optimizer, lr_lambda=lambda_epoch)"
      ],
      "metadata": {
        "id": "ntDrNDLbO1Lx"
      },
      "execution_count": null,
      "outputs": []
    },
    {
      "cell_type": "markdown",
      "source": [
        "## 3.5 학습 및 검증 실시"
      ],
      "metadata": {
        "id": "svymqMwiO6iY"
      }
    },
    {
      "cell_type": "code",
      "source": [
        "def train_model(net, dataloaders_dict, criterion, scheduler, optimizer, num_epochs):\n",
        "  \n",
        "  # GPU 사용 가능한지 확인\n",
        "  device = torch.device(\"cuda:0\" if torch.cuda.is_available() else \"cpu\")\n",
        "  print('사용 장치: ', device)\n",
        "\n",
        "  # 네트워크를 GPU로\n",
        "  net.to(device)\n",
        "\n",
        "  # 네트워크가 어느 정도 고정되면 가속화한다\n",
        "  torch.backends.cudnn.benchmark = True\n",
        "\n",
        "  # 이미지 개수\n",
        "  num_train_imgs = len(dataloaders_dict['train'].dataset)\n",
        "  num_val_imgs = len(dataloaders_dict['val'].dataset)\n",
        "  batch_size = dataloaders_dict['train'].batch_size\n",
        "\n",
        "  # 반복자의 카운터 설정\n",
        "  iteration = 1\n",
        "  logs = []\n",
        "\n",
        "  # multiple minibatch\n",
        "  batch_multiplier = 3\n",
        "\n",
        "  # epoch 루프\n",
        "  for epoch in range(num_epochs):\n",
        "\n",
        "    # 시작 시간 저장\n",
        "    t_epoch_start = time.time()\n",
        "    t_iter_start = time.time()\n",
        "    epoch_train_loss = 0.0 # epoch의 손실 합\n",
        "    epoch_val_loss = 0.0 # epoch의 손실 합\n",
        "\n",
        "    print('-------------')\n",
        "    print('Epoch {}/{}'.format(epoch+1, num_epochs))\n",
        "    print('-------------')\n",
        "\n",
        "    # epoch별 훈련 및 검증 루프\n",
        "    for phase in ['train', 'val']:\n",
        "      if phase == 'train':\n",
        "        net.train()   # 모델을 훈련 모드로\n",
        "        scheduler.step()  # 최적화 scheduler 갱신\n",
        "        optimizer.zero_grad()\n",
        "        print('(train)')\n",
        "\n",
        "      else:\n",
        "        if((epoch+1) % 5 == 0):\n",
        "          net.eval()  # 모델을 검증 모드로\n",
        "          print('-------------')\n",
        "          print('(val)')\n",
        "        else:\n",
        "          # 검증은  다섯  번 중 한 번만 수행\n",
        "          continue\n",
        "      \n",
        "      # 데이터 로더에서 minibatch씩 꺼내 루프\n",
        "      count = 0 # multiple minibatch\n",
        "      for imges, anno_class_imges in dataloaders_dict[phase]:\n",
        "        # 미니배치 크기가 1이면 배치 정규화에서 오류가 발생하므로 회피\n",
        "        if imges.size()[0]  == 1:\n",
        "          continue\n",
        "        \n",
        "        #  GPU가 사용가능하면 GPU에 데이터를 보낸다\n",
        "        imges =  imges.to(device)\n",
        "        anno_class_imges = anno_class_imges.to(device)\n",
        "\n",
        "        # multiple minibatch로 파라미터 갱신\n",
        "        if (phase == 'train') and  (count == 0):\n",
        "          optimizer.step()\n",
        "          optimizer.zero_grad()\n",
        "          count = batch_multiplier\n",
        "\n",
        "        # 순전파(forward) 계산\n",
        "        with torch.set_grad_enabled(phase == 'train'):\n",
        "          outputs = net(imges)\n",
        "          loss = criterion(outputs, anno_class_imges.long()) / batch_multiplier\n",
        "\n",
        "          # 훈련시에는 역전파\n",
        "          if phase == 'train':\n",
        "            loss.backward()  # 경사 계산\n",
        "            count -= 1  # multiple minibatch\n",
        "\n",
        "            if (iteration % 10  == 0):  # 10 iter에 한 번, loss를 표시\n",
        "              t_iter_finish = time.time()\n",
        "              duration =  t_iter_finish - t_iter_start\n",
        "              print('반복 {} || Loss: {:.4f} || 10iter: {:.4f} sec.'.format(\n",
        "                                iteration, loss.item()/batch_size*batch_multiplier, duration))\n",
        "              t_iter_start = time.time()\n",
        "\n",
        "            epoch_train_loss += loss.item() * batch_multiplier\n",
        "            iteration += 1\n",
        "\n",
        "          # 검증시\n",
        "          else:\n",
        "            epoch_val_loss += loss.item() * batch_multiplier\n",
        "\n",
        "    # epoch의 phase별 loss와 정답률\n",
        "    t_epoch_finish = time.time()\n",
        "    print('-------------')\n",
        "    print('epoch {} || Epoch_TRAIN_Loss:{:.4f} ||Epoch_VAL_Loss:{:.4f}'.format(\n",
        "        epoch+1, epoch_train_loss/num_train_imgs, epoch_val_loss/num_val_imgs))\n",
        "    print('timer:  {:.4f} sec.'.format(t_epoch_finish - t_epoch_start))\n",
        "    t_epoch_start = time.time()\n",
        "\n",
        "    # 로그 저장\n",
        "    log_epoch = {'epoch': epoch+1, 'train_loss': epoch_train_loss / num_train_imgs,\n",
        "                 'val_loss': epoch_val_loss / num_val_imgs}\n",
        "    logs.append(log_epoch)\n",
        "    df = pd.DataFrame(logs)\n",
        "    df.to_csv('log_output.csv')\n",
        "\n",
        "  # 최후의 네트워크를 저장\n",
        "  torch.save(net.state_dict(), 'weights/pspnet50_' +  str(epoch+1) + '.pth')\n",
        "\n"
      ],
      "metadata": {
        "id": "SQ3Ad3dcPExl"
      },
      "execution_count": 47,
      "outputs": []
    },
    {
      "cell_type": "code",
      "source": [
        "# 학습 및 검증 실행\n",
        "num_epochs = 30\n",
        "train_model(net, dataloaders_dict, criterion, scheduler, optimizer, num_epochs=num_epochs)"
      ],
      "metadata": {
        "id": "XLWXkqB3PDJT"
      },
      "execution_count": null,
      "outputs": []
    },
    {
      "cell_type": "markdown",
      "source": [
        "# 4.PSPNet inference"
      ],
      "metadata": {
        "id": "c3HuV83TTygI"
      }
    },
    {
      "cell_type": "markdown",
      "source": [
        "## 4.1 사전 준비"
      ],
      "metadata": {
        "id": "Qd_aMGuuT4hL"
      }
    },
    {
      "cell_type": "code",
      "source": [
        "from PIL import Image\n",
        "import numpy as np\n",
        "import matplotlib.pyplot as plt\n",
        "%matplotlib inline\n",
        "\n",
        "import torch"
      ],
      "metadata": {
        "id": "eQf5ZXkKT2ne"
      },
      "execution_count": 48,
      "outputs": []
    },
    {
      "cell_type": "code",
      "source": [
        "# 파일 경로 리스트 주비\n",
        "\n",
        "from utils.dataloader import make_datapath_list, DataTransform\n",
        "\n",
        "rootpath = \"./data/VOCdevkit/VOC2012/\"\n",
        "train_img_list, train_anno_list, val_img_list, val_anno_list = make_datapath_list(\n",
        "    rootpath=rootpath)\n",
        "\n",
        "# 나중에 어노테이션 이미지만 사용한다\n"
      ],
      "metadata": {
        "id": "KgpJWMStT68k"
      },
      "execution_count": null,
      "outputs": []
    },
    {
      "cell_type": "code",
      "source": [
        "# 네트워크 준비\n",
        "\n",
        "from utils.pspnet import PSPNet\n",
        "\n",
        "net = PSPNet(n_classes=21)\n",
        "\n",
        "# 학습된 파라미터를 로드\n",
        "state_dict = torch.load(\"./weights/pspnet50_30.pth\", map_location={'cuda:0': 'cpu'})\n",
        "net.load_state_dict(state_dict)\n",
        "\n",
        "print('네트워크 설정 완료: 학습된 가중치를 로드했습니다')\n"
      ],
      "metadata": {
        "id": "xkno66EcUBWI"
      },
      "execution_count": null,
      "outputs": []
    },
    {
      "cell_type": "markdown",
      "source": [
        "## 4.2 추론 실행"
      ],
      "metadata": {
        "id": "rPnRBw19UIs6"
      }
    },
    {
      "cell_type": "code",
      "source": [
        "# 1. 원본 화상 표시\n",
        "image_file_path = \"./data/cowboy-757575_640.jpg\"\n",
        "img = Image.open(image_file_path)   # [높이][폭][색RGB]\n",
        "img_width, img_height = img.size\n",
        "plt.imshow(img)\n",
        "plt.show()\n",
        "\n",
        "# 2. 전처리 클래스 작성\n",
        "color_mean = (0.485, 0.456, 0.406)\n",
        "color_std = (0.229, 0.224, 0.225)\n",
        "transform = DataTransform(input_size=475, color_mean=color_mean, color_std=color_std)\n",
        "\n",
        "# 3. 전처리\n",
        "# 어노테이션 이미지를 준비하여, 색상 팔레트 정보를 추출\n",
        "anno_file_path = val_anno_list[0]\n",
        "anno_class_img = Image.open(anno_file_path)   # [높이][폭]\n",
        "p_palette = anno_class_img.getpalette()\n",
        "phase = \"val\"\n",
        "img, anno_class_img = transform(phase, img, anno_class_img)\n",
        "\n",
        "# 4. PSPNet으로 추론\n",
        "net.eval()\n",
        "x = img.unsqueeze(0)  # 미니 배치화: torch.Size([1, 3, 475, 475])\n",
        "outputs = net(x)\n",
        "y = outputs[0]  # AuxLoss 측은 무시, y의 크기는 torch.Size([1, 21, 475, 475])\n",
        "\n",
        "# 5. PSPNet의 출력으로 최대 클래스를 구해, 색상 팔레트 형식으로 하여, 이미지 크기를 원래대로 되돌린다\n",
        "y = y[0].detach().numpy()  # y: torch.Size([1, 21, 475, 475])\n",
        "y = np.argmax(y, axis=0)\n",
        "anno_class_img = Image.fromarray(np.uint8(y), mode=\"P\")\n",
        "anno_class_img = anno_class_img.resize((img_width, img_height), Image.NEAREST)\n",
        "anno_class_img.putpalette(p_palette)\n",
        "plt.imshow(anno_class_img)\n",
        "plt.show()\n",
        "\n",
        "# 6. 이미지를 투과시켜 겹친다\n",
        "trans_img = Image.new('RGBA', anno_class_img.size, (0, 0, 0, 0))\n",
        "anno_class_img = anno_class_img.convert('RGBA')  # 색상 팔레트 형식을 RGBA로 변환\n",
        "\n",
        "for x in range(img_width):\n",
        "    for y in range(img_height):\n",
        "        # 추론 결과 이미지의 픽셀 데이터를 취득\n",
        "        pixel = anno_class_img.getpixel((x, y))\n",
        "        r, g, b, a = pixel\n",
        "\n",
        "        # (0, 0, 0)의 배경이라면 그대로 투과시킨다\n",
        "        if pixel[0] == 0 and pixel[1] == 0 and pixel[2] == 0:\n",
        "            continue\n",
        "        else:\n",
        "            # 그 외 색상은 준비된 이미지에 픽셀을 기록한다\n",
        "            trans_img.putpixel((x, y), (r, g, b, 150))\n",
        "            # 투과율을 150으로 지정한다\n",
        "\n",
        "img = Image.open(image_file_path)   # [높이][폭][색RGB]\n",
        "result = Image.alpha_composite(img.convert('RGBA'), trans_img)\n",
        "plt.imshow(result)\n",
        "plt.show()\n"
      ],
      "metadata": {
        "id": "kWVqH25xUN1F"
      },
      "execution_count": null,
      "outputs": []
    }
  ]
}